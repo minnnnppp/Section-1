{
  "nbformat": 4,
  "nbformat_minor": 0,
  "metadata": {
    "colab": {
      "name": "ai_10_project1_박민경.ipynb",
      "provenance": [],
      "collapsed_sections": []
    },
    "kernelspec": {
      "name": "python3",
      "display_name": "Python 3"
    },
    "language_info": {
      "name": "python"
    }
  },
  "cells": [
    {
      "cell_type": "markdown",
      "source": [
        "## **Section 1_Project**"
      ],
      "metadata": {
        "id": "eVm4GyuheZW6"
      }
    },
    {
      "cell_type": "markdown",
      "source": [
        ""
      ],
      "metadata": {
        "id": "PS0LdesCenKk"
      }
    },
    {
      "cell_type": "markdown",
      "source": [
        "# 1번"
      ],
      "metadata": {
        "id": "XSipp7_zI7qo"
      }
    },
    {
      "cell_type": "markdown",
      "source": [
        "## 데이터 전처리"
      ],
      "metadata": {
        "id": "2W5g5bRzelaI"
      }
    },
    {
      "cell_type": "code",
      "execution_count": 1,
      "metadata": {
        "colab": {
          "base_uri": "https://localhost:8080/"
        },
        "id": "rUy4DB0BausT",
        "outputId": "9796188f-3f75-4942-92b5-3951a5503523"
      },
      "outputs": [
        {
          "output_type": "stream",
          "name": "stdout",
          "text": [
            "Mounted at /content/drive\n"
          ]
        }
      ],
      "source": [
        "import pandas as pd\n",
        "import numpy as np\n",
        "from sklearn.cluster import KMeans \n",
        "from sklearn.preprocessing import StandardScaler \n",
        "from scipy.stats import normaltest\n",
        "from scipy import stats\n",
        "from scipy.stats import chi2_contingency\n",
        "import seaborn as sns\n",
        "\n",
        "from google.colab import drive\n",
        "drive.mount('/content/drive')"
      ]
    },
    {
      "cell_type": "code",
      "source": [
        "filename = '/content/drive/MyDrive/data/vgames2.csv'\n",
        "df = pd.read_csv(filename)\n",
        "\n",
        "# 상관없는 열 지우기\n",
        "df=df.drop(['Unnamed: 0'],axis=1)"
      ],
      "metadata": {
        "id": "FS0FOAyFb7OT"
      },
      "execution_count": 2,
      "outputs": []
    },
    {
      "cell_type": "code",
      "source": [
        "#결측치 확인 후 제거\n",
        "df.isna().sum()\n",
        "df=df.dropna()"
      ],
      "metadata": {
        "id": "XoWYuHsSlGpz"
      },
      "execution_count": 3,
      "outputs": []
    },
    {
      "cell_type": "code",
      "source": [
        "# 년도 통일하기\n",
        "def date(y):\n",
        "  if y < 21:\n",
        "    return 2000 + y\n",
        "  elif 85 < y < 100:\n",
        "    return 1900 + y\n",
        "  else:\n",
        "    return y\n",
        "\n",
        "df['Year'] = df['Year'].apply(date)"
      ],
      "metadata": {
        "id": "giftUtF9p5GJ"
      },
      "execution_count": 4,
      "outputs": []
    },
    {
      "cell_type": "code",
      "source": [
        "# sales 단위 통일하기\n",
        "def numer(x):\n",
        "  if 'K' in x:\n",
        "    x=x.replace('K','')\n",
        "    return float(x)*0.001  # 단위 통일\n",
        "  elif 'M' in x:\n",
        "    x=x.replace('M','')\n",
        "    return float(x)\n",
        "  else:\n",
        "    return float(x)\n",
        "\n",
        "sale_columns = df.filter(regex='_Sales').columns  #_Sales 컬럼\n",
        "\n",
        "for c in sale_columns:\n",
        "  df[c] = df[c].apply(numer)\n",
        "\n",
        "df"
      ],
      "metadata": {
        "id": "jB4eBt6WbgnA",
        "outputId": "fc636074-0d45-4249-9352-f27467c62aea",
        "colab": {
          "base_uri": "https://localhost:8080/",
          "height": 423
        }
      },
      "execution_count": 5,
      "outputs": [
        {
          "output_type": "execute_result",
          "data": {
            "text/html": [
              "<div>\n",
              "<style scoped>\n",
              "    .dataframe tbody tr th:only-of-type {\n",
              "        vertical-align: middle;\n",
              "    }\n",
              "\n",
              "    .dataframe tbody tr th {\n",
              "        vertical-align: top;\n",
              "    }\n",
              "\n",
              "    .dataframe thead th {\n",
              "        text-align: right;\n",
              "    }\n",
              "</style>\n",
              "<table border=\"1\" class=\"dataframe\">\n",
              "  <thead>\n",
              "    <tr style=\"text-align: right;\">\n",
              "      <th></th>\n",
              "      <th>Name</th>\n",
              "      <th>Platform</th>\n",
              "      <th>Year</th>\n",
              "      <th>Genre</th>\n",
              "      <th>Publisher</th>\n",
              "      <th>NA_Sales</th>\n",
              "      <th>EU_Sales</th>\n",
              "      <th>JP_Sales</th>\n",
              "      <th>Other_Sales</th>\n",
              "    </tr>\n",
              "  </thead>\n",
              "  <tbody>\n",
              "    <tr>\n",
              "      <th>0</th>\n",
              "      <td>Candace Kane's Candy Factory</td>\n",
              "      <td>DS</td>\n",
              "      <td>2008.0</td>\n",
              "      <td>Action</td>\n",
              "      <td>Destineer</td>\n",
              "      <td>0.04</td>\n",
              "      <td>0.00</td>\n",
              "      <td>0.00</td>\n",
              "      <td>0.00</td>\n",
              "    </tr>\n",
              "    <tr>\n",
              "      <th>1</th>\n",
              "      <td>The Munchables</td>\n",
              "      <td>Wii</td>\n",
              "      <td>2009.0</td>\n",
              "      <td>Action</td>\n",
              "      <td>Namco Bandai Games</td>\n",
              "      <td>0.17</td>\n",
              "      <td>0.00</td>\n",
              "      <td>0.00</td>\n",
              "      <td>0.01</td>\n",
              "    </tr>\n",
              "    <tr>\n",
              "      <th>2</th>\n",
              "      <td>Otome wa Oanesama Boku ni Koi Shiteru Portable</td>\n",
              "      <td>PSP</td>\n",
              "      <td>2010.0</td>\n",
              "      <td>Adventure</td>\n",
              "      <td>Alchemist</td>\n",
              "      <td>0.00</td>\n",
              "      <td>0.00</td>\n",
              "      <td>0.02</td>\n",
              "      <td>0.00</td>\n",
              "    </tr>\n",
              "    <tr>\n",
              "      <th>3</th>\n",
              "      <td>Deal or No Deal: Special Edition</td>\n",
              "      <td>DS</td>\n",
              "      <td>2010.0</td>\n",
              "      <td>Misc</td>\n",
              "      <td>Zoo Games</td>\n",
              "      <td>0.04</td>\n",
              "      <td>0.00</td>\n",
              "      <td>0.00</td>\n",
              "      <td>0.00</td>\n",
              "    </tr>\n",
              "    <tr>\n",
              "      <th>4</th>\n",
              "      <td>Ben 10 Ultimate Alien: Cosmic Destruction</td>\n",
              "      <td>PS3</td>\n",
              "      <td>2010.0</td>\n",
              "      <td>Platform</td>\n",
              "      <td>D3Publisher</td>\n",
              "      <td>0.12</td>\n",
              "      <td>0.09</td>\n",
              "      <td>0.00</td>\n",
              "      <td>0.04</td>\n",
              "    </tr>\n",
              "    <tr>\n",
              "      <th>...</th>\n",
              "      <td>...</td>\n",
              "      <td>...</td>\n",
              "      <td>...</td>\n",
              "      <td>...</td>\n",
              "      <td>...</td>\n",
              "      <td>...</td>\n",
              "      <td>...</td>\n",
              "      <td>...</td>\n",
              "      <td>...</td>\n",
              "    </tr>\n",
              "    <tr>\n",
              "      <th>16593</th>\n",
              "      <td>Ice Age 2: The Meltdown</td>\n",
              "      <td>GC</td>\n",
              "      <td>2006.0</td>\n",
              "      <td>Platform</td>\n",
              "      <td>Vivendi Games</td>\n",
              "      <td>0.15</td>\n",
              "      <td>0.04</td>\n",
              "      <td>0.00</td>\n",
              "      <td>0.01</td>\n",
              "    </tr>\n",
              "    <tr>\n",
              "      <th>16594</th>\n",
              "      <td>Rainbow Islands: Revolution</td>\n",
              "      <td>PSP</td>\n",
              "      <td>2005.0</td>\n",
              "      <td>Action</td>\n",
              "      <td>Rising Star Games</td>\n",
              "      <td>0.01</td>\n",
              "      <td>0.00</td>\n",
              "      <td>0.00</td>\n",
              "      <td>0.00</td>\n",
              "    </tr>\n",
              "    <tr>\n",
              "      <th>16595</th>\n",
              "      <td>NBA 2K16</td>\n",
              "      <td>PS3</td>\n",
              "      <td>2015.0</td>\n",
              "      <td>Sports</td>\n",
              "      <td>Take-Two Interactive</td>\n",
              "      <td>0.44</td>\n",
              "      <td>0.19</td>\n",
              "      <td>0.03</td>\n",
              "      <td>0.13</td>\n",
              "    </tr>\n",
              "    <tr>\n",
              "      <th>16596</th>\n",
              "      <td>Toukiden: The Age of Demons</td>\n",
              "      <td>PSV</td>\n",
              "      <td>2013.0</td>\n",
              "      <td>Action</td>\n",
              "      <td>Tecmo Koei</td>\n",
              "      <td>0.05</td>\n",
              "      <td>0.05</td>\n",
              "      <td>0.25</td>\n",
              "      <td>0.03</td>\n",
              "    </tr>\n",
              "    <tr>\n",
              "      <th>16597</th>\n",
              "      <td>The King of Fighters '95</td>\n",
              "      <td>PS</td>\n",
              "      <td>1996.0</td>\n",
              "      <td>Fighting</td>\n",
              "      <td>Sony Computer Entertainment</td>\n",
              "      <td>0.00</td>\n",
              "      <td>0.00</td>\n",
              "      <td>0.16</td>\n",
              "      <td>0.01</td>\n",
              "    </tr>\n",
              "  </tbody>\n",
              "</table>\n",
              "<p>16241 rows × 9 columns</p>\n",
              "</div>"
            ],
            "text/plain": [
              "                                                 Name  ... Other_Sales\n",
              "0                        Candace Kane's Candy Factory  ...        0.00\n",
              "1                                      The Munchables  ...        0.01\n",
              "2      Otome wa Oanesama Boku ni Koi Shiteru Portable  ...        0.00\n",
              "3                    Deal or No Deal: Special Edition  ...        0.00\n",
              "4           Ben 10 Ultimate Alien: Cosmic Destruction  ...        0.04\n",
              "...                                               ...  ...         ...\n",
              "16593                         Ice Age 2: The Meltdown  ...        0.01\n",
              "16594                     Rainbow Islands: Revolution  ...        0.00\n",
              "16595                                        NBA 2K16  ...        0.13\n",
              "16596                     Toukiden: The Age of Demons  ...        0.03\n",
              "16597                        The King of Fighters '95  ...        0.01\n",
              "\n",
              "[16241 rows x 9 columns]"
            ]
          },
          "metadata": {},
          "execution_count": 5
        }
      ]
    },
    {
      "cell_type": "code",
      "source": [
        "df=df.sort_values(by=['Year'], axis=0) # 년도 오름차순 정렬하기\n",
        "\n",
        "# 장르 확인\n",
        "df['Genre'].value_counts()"
      ],
      "metadata": {
        "id": "yisBMpDea0KB",
        "colab": {
          "base_uri": "https://localhost:8080/"
        },
        "outputId": "415926e8-8a7f-454c-c7b2-2fb546c42bf8"
      },
      "execution_count": 6,
      "outputs": [
        {
          "output_type": "execute_result",
          "data": {
            "text/plain": [
              "Action          3240\n",
              "Sports          2299\n",
              "Misc            1681\n",
              "Role-Playing    1465\n",
              "Shooter         1280\n",
              "Adventure       1268\n",
              "Racing          1219\n",
              "Platform         873\n",
              "Simulation       846\n",
              "Fighting         835\n",
              "Strategy         669\n",
              "Puzzle           566\n",
              "Name: Genre, dtype: int64"
            ]
          },
          "metadata": {},
          "execution_count": 6
        }
      ]
    },
    {
      "cell_type": "code",
      "source": [
        "# 총 출고량\n",
        "df['Total_Sales'] = df['NA_Sales'] + df['EU_Sales'] + df['JP_Sales'] + df['Other_Sales'] "
      ],
      "metadata": {
        "id": "yykI26BTzeOQ"
      },
      "execution_count": 7,
      "outputs": []
    },
    {
      "cell_type": "code",
      "source": [
        "# 년도별로 여러 구간을 설정해 df에서 구간별 df를 생성하기- 1980-1989\n",
        "S_df1=df[(df['Year']>= 1980.0) & (df['Year'] < 1990.0)]\n",
        "S_df1 = S_df1.rename(columns={'Total_Sales': 'Total_Sales1'})\n",
        "\n",
        "# 1990-1999\n",
        "S_df2=df[(df['Year']>= 1990.0) & (df['Year'] < 2000.0)]\n",
        "S_df2 = S_df2.rename(columns={'Total_Sales': 'Total_Sales2'})\n",
        "\n",
        "# 2000-2009\n",
        "S_df3=df[(df['Year']>= 2000.0) & (df['Year'] < 2010.0)]\n",
        "S_df3 = S_df3.rename(columns={'Total_Sales': 'Total_Sales3'})\n",
        "\n",
        "# 2010-2020\n",
        "S_df4=df[(df['Year']>= 2010.0) & (df['Year'] <= 2020.0)]\n",
        "S_df4 = S_df4.rename(columns={'Total_Sales': 'Total_Sales4'})"
      ],
      "metadata": {
        "id": "ip2l3x0hzmFs"
      },
      "execution_count": 8,
      "outputs": []
    },
    {
      "cell_type": "markdown",
      "source": [
        "##장르&지역별 출고량에 대한 chi square test"
      ],
      "metadata": {
        "id": "JRpgdCqpuoIo"
      }
    },
    {
      "cell_type": "code",
      "source": [
        "# chi square test->H0: all time 장르에 따른 각 지역의 출고량 차이가 없다. (=장르와 출고량에는 연관이 없다.) \n",
        "chi_resa1 = stats.chi2_contingency(pd.crosstab(index=df['Genre'], columns=df['NA_Sales'])) \n",
        "# pvalue 0.27642402962771234\n",
        "\n",
        "#EU chi square test\n",
        "chi_resa2 = stats.chi2_contingency(pd.crosstab(index=df['Genre'], columns=df['EU_Sales'])) \n",
        "# pvalue 0.16441792001358294\n",
        "#JP chi square test\n",
        "chi_resa3 = stats.chi2_contingency(pd.crosstab(index=df['Genre'], columns=df['JP_Sales'])) \n",
        "# pvalue 0.056317610546887886\n",
        "#EU chi square test\n",
        "chi_resa4 = stats.chi2_contingency(pd.crosstab(index=df['Genre'], columns=df['Other_Sales'])) \n",
        "# pvalue 0.5533121246950685\n",
        "\n",
        "print('chi_resa1: ', chi_resa1)\n",
        "print('chi_resa2: ', chi_resa2)\n",
        "print('chi_resa3: ', chi_resa3)\n",
        "print('chi_resa4: ', chi_resa4)\n",
        "# 검정 결과: 각 지역의 출고량은 장르에 따라 차이 있음"
      ],
      "metadata": {
        "colab": {
          "base_uri": "https://localhost:8080/"
        },
        "id": "SPJRhotv1HwB",
        "outputId": "9c9a91fc-7907-484b-f791-435e680a8181"
      },
      "execution_count": 11,
      "outputs": [
        {
          "output_type": "stream",
          "name": "stdout",
          "text": [
            "chi_resa1:  (6291.84181788073, 4.767706829042129e-64, 4499, array([[8.81967859e+02, 1.03936950e+02, 1.06929376e+02, ...,\n",
            "        1.99495105e-01, 1.99495105e-01, 1.99495105e-01],\n",
            "       [3.45165199e+02, 4.06765593e+01, 4.18476695e+01, ...,\n",
            "        7.80740102e-02, 7.80740102e-02, 7.80740102e-02],\n",
            "       [2.27297272e+02, 2.67862201e+01, 2.75574164e+01, ...,\n",
            "        5.14130903e-02, 5.14130903e-02, 5.14130903e-02],\n",
            "       ...,\n",
            "       [2.30291608e+02, 2.71390924e+01, 2.79204482e+01, ...,\n",
            "        5.20903885e-02, 5.20903885e-02, 5.20903885e-02],\n",
            "       [6.25816083e+02, 7.37503233e+01, 7.58736531e+01, ...,\n",
            "        1.41555323e-01, 1.41555323e-01, 1.41555323e-01],\n",
            "       [1.82110030e+02, 2.14610554e+01, 2.20789360e+01, ...,\n",
            "        4.11920448e-02, 4.11920448e-02, 4.11920448e-02]]))\n",
            "chi_resa2:  (4484.054061491959, 3.0738581086137684e-38, 3322, array([[1.11856905e+03, 2.91063358e+02, 2.47972415e+02, ...,\n",
            "        1.99495105e-01, 1.99495105e-01, 1.99495105e-01],\n",
            "       [4.37760975e+02, 1.13909981e+02, 9.70459947e+01, ...,\n",
            "        7.80740102e-02, 7.80740102e-02, 7.80740102e-02],\n",
            "       [2.88273197e+02, 7.50116988e+01, 6.39064713e+01, ...,\n",
            "        5.14130903e-02, 5.14130903e-02, 5.14130903e-02],\n",
            "       ...,\n",
            "       [2.92070808e+02, 7.59998769e+01, 6.47483529e+01, ...,\n",
            "        5.20903885e-02, 5.20903885e-02, 5.20903885e-02],\n",
            "       [7.93700696e+02, 2.06529216e+02, 1.75953266e+02, ...,\n",
            "        1.41555323e-01, 1.41555323e-01, 1.41555323e-01],\n",
            "       [2.30963795e+02, 6.00991934e+01, 5.12017117e+01, ...,\n",
            "        4.11920448e-02, 4.11920448e-02, 4.11920448e-02]]))\n",
            "chi_resa3:  (5216.225544016623, 1.8298771022458196e-168, 2662, array([[2.02946370e+03, 1.38250108e+02, 1.43037990e+02, ...,\n",
            "        1.99495105e-01, 1.99495105e-01, 1.99495105e-01],\n",
            "       [7.94246906e+02, 5.41052891e+01, 5.59790653e+01, ...,\n",
            "        7.80740102e-02, 7.80740102e-02, 7.80740102e-02],\n",
            "       [5.23025368e+02, 3.56292716e+01, 3.68631858e+01, ...,\n",
            "        5.14130903e-02, 5.14130903e-02, 5.14130903e-02],\n",
            "       ...,\n",
            "       [5.29915522e+02, 3.60986392e+01, 3.73488086e+01, ...,\n",
            "        5.20903885e-02, 5.20903885e-02, 5.20903885e-02],\n",
            "       [1.44004230e+03, 9.80978388e+01, 1.01495167e+02, ...,\n",
            "        1.41555323e-01, 1.41555323e-01, 1.41555323e-01],\n",
            "       [4.19046672e+02, 2.85460871e+01, 2.95346961e+01, ...,\n",
            "        4.11920448e-02, 4.11920448e-02, 4.11920448e-02]]))\n",
            "chi_resa4:  (2281.7665651874713, 1.73126439723736e-19, 1705, array([[1.26060957e+03, 6.71899514e+02, 3.10214888e+02, ...,\n",
            "        1.99495105e-01, 1.99495105e-01, 1.99495105e-01],\n",
            "       [4.93349671e+02, 2.62953266e+02, 1.21405086e+02, ...,\n",
            "        7.80740102e-02, 7.80740102e-02, 7.80740102e-02],\n",
            "       [3.24879318e+02, 1.73159288e+02, 7.99473555e+01, ...,\n",
            "        5.14130903e-02, 5.14130903e-02, 5.14130903e-02],\n",
            "       ...,\n",
            "       [3.29159165e+02, 1.75440429e+02, 8.10005542e+01, ...,\n",
            "        5.20903885e-02, 5.20903885e-02, 5.20903885e-02],\n",
            "       [8.94488086e+02, 4.76758328e+02, 2.20118527e+02, ...,\n",
            "        1.41555323e-01, 1.41555323e-01, 1.41555323e-01],\n",
            "       [2.60292531e+02, 1.38734807e+02, 6.40536297e+01, ...,\n",
            "        4.11920448e-02, 4.11920448e-02, 4.11920448e-02]]))\n"
          ]
        }
      ]
    },
    {
      "cell_type": "markdown",
      "source": [
        "##장르별 각 지역의 출고량을 나타낸 bar plot"
      ],
      "metadata": {
        "id": "9nbMx--677tt"
      }
    },
    {
      "cell_type": "code",
      "source": [
        "# alltime: 지역별로 각 장르의 출고량의 합계 구하고 tsum이라는 df에 저장\n",
        "res1=df.groupby('Genre').NA_Sales.sum()\n",
        "res2=df.groupby('Genre').EU_Sales.sum()\n",
        "res3=df.groupby('Genre').JP_Sales.sum()\n",
        "res4=df.groupby('Genre').Other_Sales.sum()\n",
        "\n",
        "tsum_df=pd.concat([pd.DataFrame(res1).T, \n",
        "                   pd.DataFrame(res2).T, \n",
        "                   pd.DataFrame(res3).T, \n",
        "                   pd.DataFrame(res4).T], axis=0)\n",
        "\n",
        "#2010-2020: 지역별로 각 장르의 출고량의 합계 구하고 rtsum이라는 df에 저장\n",
        "rtsum = pd.concat([pd.DataFrame(S_df4.groupby('Genre').NA_Sales.sum()).T,\n",
        "                   pd.DataFrame(S_df4.groupby('Genre').EU_Sales.sum()).T,\n",
        "                   pd.DataFrame(S_df4.groupby('Genre').JP_Sales.sum()).T,\n",
        "                   pd.DataFrame(S_df4.groupby('Genre').Other_Sales.sum()).T], axis=0)\n",
        "tsum_df, rtsum"
      ],
      "metadata": {
        "id": "uS_N6fimzGt2",
        "colab": {
          "base_uri": "https://localhost:8080/"
        },
        "outputId": "6a92f104-7ae0-40f2-c5fd-3d1710b2b397"
      },
      "execution_count": 12,
      "outputs": [
        {
          "output_type": "execute_result",
          "data": {
            "text/plain": [
              "(Genre        Action  Adventure  Fighting  ...  Simulation  Sports  Strategy\n",
              " NA_Sales     858.75     101.79    220.35  ...      181.43  667.26     67.83\n",
              " EU_Sales     513.64      63.66     99.90  ...      112.99  370.97     44.82\n",
              " JP_Sales     156.60      51.87     87.14  ...       63.54  134.76     49.10\n",
              " Other_Sales  183.99      16.70     36.15  ...       31.32  132.35     11.23\n",
              " \n",
              " [4 rows x 12 columns],\n",
              " Genre        Action  Adventure  Fighting  ...  Simulation  Sports  Strategy\n",
              " NA_Sales     286.40      20.64     38.56  ...       26.69  154.03     13.25\n",
              " EU_Sales     234.99      19.07     20.77  ...       25.20  115.63     12.30\n",
              " JP_Sales      70.38      15.30     13.75  ...       13.20   15.34      6.60\n",
              " Other_Sales   77.83       5.84      8.45  ...        6.00   39.28      3.50\n",
              " \n",
              " [4 rows x 12 columns])"
            ]
          },
          "metadata": {},
          "execution_count": 12
        }
      ]
    },
    {
      "cell_type": "code",
      "source": [
        "#지역별로 가장 출고량이 높은 게임의 장르 출력하기\n",
        "print(tsum_df.max(axis=1))\n",
        "print(rtsum.max(axis=1))"
      ],
      "metadata": {
        "colab": {
          "base_uri": "https://localhost:8080/"
        },
        "id": "uZmNETy9YrSc",
        "outputId": "1820615e-c1de-4161-9526-4eca5ccf377a"
      },
      "execution_count": 13,
      "outputs": [
        {
          "output_type": "stream",
          "name": "stdout",
          "text": [
            "NA_Sales       858.75\n",
            "EU_Sales       513.64\n",
            "JP_Sales       342.93\n",
            "Other_Sales    183.99\n",
            "dtype: float64\n",
            "NA_Sales       286.40\n",
            "EU_Sales       234.99\n",
            "JP_Sales        96.10\n",
            "Other_Sales     77.83\n",
            "dtype: float64\n"
          ]
        }
      ]
    },
    {
      "cell_type": "code",
      "source": [
        "# 각 지역의 출고량 합계 시각화 all time\n",
        "import matplotlib.pyplot as plt\n",
        "import numpy as np\n",
        "label = ['Action', 'Adventure', 'Fighting', 'Misc','Platform','Puzzle','Racing',\n",
        "         'Role-Playing','Shooter','Simulation','Sports','Strategy']\n",
        "index = np.arange(len(label))\n",
        "\n",
        "#1.NA\n",
        "plt.figure(figsize=(10,5))\n",
        "plt.bar(index, res1,width=0.2)\n",
        "plt.title('NA Sales', fontsize=15)\n",
        "plt.xlabel('Genre', fontsize=12)\n",
        "plt.ylabel('Sales', fontsize=12)\n",
        "plt.xticks(index, label, fontsize=9)\n",
        "plt.show()\n",
        "\n",
        "#2.EU\n",
        "plt.figure(figsize=(10,5))\n",
        "plt.bar(index, res2,width=0.2)\n",
        "plt.title('EU Sales', fontsize=15)\n",
        "plt.xlabel('Genre', fontsize=12)\n",
        "plt.ylabel('Sales', fontsize=12)\n",
        "plt.xticks(index, label, fontsize=9)\n",
        "plt.show()"
      ],
      "metadata": {
        "id": "4ySylJJZ0Sf1",
        "colab": {
          "base_uri": "https://localhost:8080/",
          "height": 691
        },
        "outputId": "b7841725-b5c4-4e46-9632-b8f845cfe1bf"
      },
      "execution_count": 14,
      "outputs": [
        {
          "output_type": "display_data",
          "data": {
            "image/png": "[encoded data removed]",
            "text/plain": [
              "<Figure size 720x360 with 1 Axes>"
            ]
          },
          "metadata": {
            "needs_background": "light"
          }
        },
        {
          "output_type": "display_data",
          "data": {
            "image/png": "[encoded data removed]",
            "text/plain": [
              "<Figure size 720x360 with 1 Axes>"
            ]
          },
          "metadata": {
            "needs_background": "light"
          }
        }
      ]
    },
    {
      "cell_type": "code",
      "source": [
        "#3.JP\n",
        "plt.figure(figsize=(10,5))\n",
        "plt.bar(index, res3,width=0.2)\n",
        "plt.title('JP Sales', fontsize=15)\n",
        "plt.xlabel('Genre', fontsize=12)\n",
        "plt.ylabel('Sales', fontsize=12)\n",
        "plt.xticks(index, label, fontsize=9)\n",
        "plt.show()\n",
        "\n",
        "#4.other\n",
        "plt.figure(figsize=(10,5))\n",
        "plt.bar(index, res4,width=0.2)\n",
        "plt.title('Other Sales', fontsize=15)\n",
        "plt.xlabel('Genre', fontsize=12)\n",
        "plt.ylabel('Sales', fontsize=12)\n",
        "plt.xticks(index, label, fontsize=9)\n",
        "plt.show()"
      ],
      "metadata": {
        "colab": {
          "base_uri": "https://localhost:8080/",
          "height": 691
        },
        "id": "QF4llym_JzHv",
        "outputId": "f32a1f31-2013-47b1-9f34-5e317c6f7d83"
      },
      "execution_count": 15,
      "outputs": [
        {
          "output_type": "display_data",
          "data": {
            "image/png": "[encoded data removed]",
            "text/plain": [
              "<Figure size 720x360 with 1 Axes>"
            ]
          },
          "metadata": {
            "needs_background": "light"
          }
        },
        {
          "output_type": "display_data",
          "data": {
            "image/png": "[encoded data removed]",
            "text/plain": [
              "<Figure size 720x360 with 1 Axes>"
            ]
          },
          "metadata": {
            "needs_background": "light"
          }
        }
      ]
    },
    {
      "cell_type": "markdown",
      "source": [
        "<hr/>\n"
      ],
      "metadata": {
        "id": "tlKFpKsqfNE_"
      }
    },
    {
      "cell_type": "markdown",
      "source": [
        "# 2번"
      ],
      "metadata": {
        "id": "ekgbmKx6tgn6"
      }
    },
    {
      "cell_type": "markdown",
      "source": [
        "## 연도와 장르 변수 간의 chi square test"
      ],
      "metadata": {
        "id": "00l1dHrN-1ik"
      }
    },
    {
      "cell_type": "code",
      "source": [
        "# chi square test-> H0: 연도와 장르 변수가 서로 연관이 없다.\n",
        "c_t1 = pd.crosstab(index=df['Genre'], columns=df['Year'])\n",
        "chisq_res1 = stats.chi2_contingency(c_t1)\n",
        "c_t1, chisq_res1 # pvalue 0.0 -> 귀무가설 기각"
      ],
      "metadata": {
        "colab": {
          "base_uri": "https://localhost:8080/"
        },
        "outputId": "ba7ab26f-4010-41f3-8c83-34854d2340cd",
        "id": "lor339Wwwdgt"
      },
      "execution_count": 16,
      "outputs": [
        {
          "output_type": "execute_result",
          "data": {
            "text/plain": [
              "(Year          1980.0  1981.0  1982.0  1983.0  ...  2015.0  2016.0  2017.0  2020.0\n",
              " Genre                                         ...                                \n",
              " Action             1      25      18       7  ...     253     118       1       0\n",
              " Adventure          0       0       0       1  ...      53      33       0       0\n",
              " Fighting           1       0       0       0  ...      21      14       0       0\n",
              " Misc               4       0       1       1  ...      39      18       0       0\n",
              " Platform           0       3       5       5  ...      14      10       0       0\n",
              " Puzzle             0       2       3       1  ...       6       0       0       0\n",
              " Racing             0       1       2       0  ...      19      20       0       0\n",
              " Role-Playing       0       0       0       0  ...      78      40       2       0\n",
              " Shooter            2      10       5       1  ...      34      32       0       0\n",
              " Simulation         0       1       0       0  ...      15       9       0       1\n",
              " Sports             0       4       2       1  ...      62      38       0       0\n",
              " Strategy           0       0       0       0  ...      17      10       0       0\n",
              " \n",
              " [12 rows x 39 columns],\n",
              " (2763.3426220442343,\n",
              "  0.0,\n",
              "  418,\n",
              "  array([[1.59596084e+00, 9.17677483e+00, 7.18182378e+00, 3.39141678e+00,\n",
              "          2.79293147e+00, 2.79293147e+00, 4.18939720e+00, 3.19192168e+00,\n",
              "          2.99242657e+00, 3.39141678e+00, 3.19192168e+00, 8.17929930e+00,\n",
              "          8.57828951e+00, 1.19697063e+01, 2.41389077e+01, 4.36894280e+01,\n",
              "          5.22677175e+01, 5.76540853e+01, 7.52096546e+01, 6.70303553e+01,\n",
              "          6.94242965e+01, 9.57576504e+01, 1.64782957e+02, 1.54409211e+02,\n",
              "          1.47626378e+02, 1.86328428e+02, 2.00492581e+02, 2.38396650e+02,\n",
              "          2.83881534e+02, 2.84879010e+02, 2.49967367e+02, 2.26027954e+02,\n",
              "          1.30070808e+02, 1.08724832e+02, 1.15707161e+02, 1.21891509e+02,\n",
              "          6.82273259e+01, 5.98485315e-01, 1.99495105e-01],\n",
              "         [6.24592082e-01, 3.59140447e+00, 2.81066437e+00, 1.32725817e+00,\n",
              "          1.09303614e+00, 1.09303614e+00, 1.63955421e+00, 1.24918416e+00,\n",
              "          1.17111015e+00, 1.32725817e+00, 1.24918416e+00, 3.20103442e+00,\n",
              "          3.35718244e+00, 4.68444061e+00, 9.44695524e+00, 1.70982082e+01,\n",
              "          2.04553907e+01, 2.25633890e+01, 2.94339019e+01, 2.62328674e+01,\n",
              "          2.71697556e+01, 3.74755249e+01, 6.44891324e+01, 6.04292839e+01,\n",
              "          5.77747676e+01, 7.29211255e+01, 7.84643803e+01, 9.32984422e+01,\n",
              "          1.11099317e+02, 1.11489687e+02, 9.78267348e+01, 8.84578536e+01,\n",
              "          5.09042547e+01, 4.25503356e+01, 4.52829259e+01, 4.77032202e+01,\n",
              "          2.67013115e+01, 2.34222031e-01, 7.80740102e-02],\n",
              "         [4.11304723e-01, 2.36500216e+00, 1.85087125e+00, 8.74022536e-01,\n",
              "          7.19783265e-01, 7.19783265e-01, 1.07967490e+00, 8.22609445e-01,\n",
              "          7.71196355e-01, 8.74022536e-01, 8.22609445e-01, 2.10793670e+00,\n",
              "          2.21076288e+00, 3.08478542e+00, 6.22098393e+00, 1.12594668e+01,\n",
              "          1.34702297e+01, 1.48583831e+01, 1.93827351e+01, 1.72747983e+01,\n",
              "          1.78917554e+01, 2.46782834e+01, 4.24672126e+01, 3.97937319e+01,\n",
              "          3.80456868e+01, 4.80198264e+01, 5.16701558e+01, 6.14386429e+01,\n",
              "          7.31608275e+01, 7.34178930e+01, 6.44206022e+01, 5.82510313e+01,\n",
              "          3.35213349e+01, 2.80201342e+01, 2.98195924e+01, 3.14133982e+01,\n",
              "          1.75832769e+01, 1.54239271e-01, 5.14130903e-02],\n",
              "         [8.28027831e-01, 4.76116003e+00, 3.72612524e+00, 1.75955914e+00,\n",
              "          1.44904870e+00, 1.44904870e+00, 2.17357306e+00, 1.65605566e+00,\n",
              "          1.55255218e+00, 1.75955914e+00, 1.65605566e+00, 4.24364263e+00,\n",
              "          4.45064959e+00, 6.21020873e+00, 1.25239209e+01, 2.26672619e+01,\n",
              "          2.71179115e+01, 2.99125054e+01, 3.90208115e+01, 3.47771689e+01,\n",
              "          3.60192106e+01, 4.96816698e+01, 8.54938735e+01, 8.01116926e+01,\n",
              "          7.65925743e+01, 9.66722492e+01, 1.04020996e+02, 1.23686657e+02,\n",
              "          1.47285450e+02, 1.47802968e+02, 1.29689859e+02, 1.17269442e+02,\n",
              "          6.74842682e+01, 5.64093960e+01, 6.00320177e+01, 6.32406256e+01,\n",
              "          3.53981898e+01, 3.10510437e-01, 1.03503479e-01],\n",
              "         [4.30022782e-01, 2.47263100e+00, 1.93510252e+00, 9.13798411e-01,\n",
              "          7.52539868e-01, 7.52539868e-01, 1.12880980e+00, 8.60045564e-01,\n",
              "          8.06292716e-01, 9.13798411e-01, 8.60045564e-01, 2.20386676e+00,\n",
              "          2.31137245e+00, 3.22517086e+00, 6.50409458e+00, 1.17718737e+01,\n",
              "          1.40832461e+01, 1.55345730e+01, 2.02648236e+01, 1.80609568e+01,\n",
              "          1.87059910e+01, 2.58013669e+01, 4.43998522e+01, 4.16047041e+01,\n",
              "          3.97771073e+01, 5.02051598e+01, 5.40216120e+01, 6.42346530e+01,\n",
              "          7.64903023e+01, 7.67590666e+01, 6.73523182e+01, 6.09019765e+01,\n",
              "          3.50468567e+01, 2.92953020e+01, 3.11766517e+01, 3.28429900e+01,\n",
              "          1.83834739e+01, 1.61258543e-01, 5.37528477e-02],\n",
              "         [2.78800566e-01, 1.60310326e+00, 1.25460255e+00, 5.92451204e-01,\n",
              "          4.87900991e-01, 4.87900991e-01, 7.31851487e-01, 5.57601133e-01,\n",
              "          5.22751062e-01, 5.92451204e-01, 5.57601133e-01, 1.42885290e+00,\n",
              "          1.49855304e+00, 2.09100425e+00, 4.21685857e+00, 7.63216551e+00,\n",
              "          9.13071855e+00, 1.00716705e+01, 1.31384767e+01, 1.17096238e+01,\n",
              "          1.21278246e+01, 1.67280340e+01, 2.87861585e+01, 2.69739548e+01,\n",
              "          2.57890524e+01, 3.25499661e+01, 3.50243212e+01, 4.16458346e+01,\n",
              "          4.95916508e+01, 4.97659011e+01, 4.36671387e+01, 3.94851302e+01,\n",
              "          2.27222462e+01, 1.89932886e+01, 2.02130411e+01, 2.12933933e+01,\n",
              "          1.19187242e+01, 1.04550212e-01, 3.48500708e-02],\n",
              "         [6.00455637e-01, 3.45261991e+00, 2.70205037e+00, 1.27596823e+00,\n",
              "          1.05079736e+00, 1.05079736e+00, 1.57619605e+00, 1.20091127e+00,\n",
              "          1.12585432e+00, 1.27596823e+00, 1.20091127e+00, 3.07733514e+00,\n",
              "          3.22744905e+00, 4.50341728e+00, 9.08189151e+00, 1.64374731e+01,\n",
              "          1.96649221e+01, 2.16914599e+01, 2.82964719e+01, 2.52191368e+01,\n",
              "          2.61198202e+01, 3.60273382e+01, 6.19970445e+01, 5.80940829e+01,\n",
              "          5.55421464e+01, 7.01031956e+01, 7.54322394e+01, 8.96930608e+01,\n",
              "          1.06806046e+02, 1.07181331e+02, 9.40463641e+01, 8.50395296e+01,\n",
              "          4.89371344e+01, 4.09060403e+01, 4.35330337e+01, 4.58597993e+01,\n",
              "          2.56694785e+01, 2.25170864e-01, 7.50569546e-02],\n",
              "         [7.21630441e-01, 4.14937504e+00, 3.24733699e+00, 1.53346469e+00,\n",
              "          1.26285327e+00, 1.26285327e+00, 1.89427991e+00, 1.44326088e+00,\n",
              "          1.35305708e+00, 1.53346469e+00, 1.44326088e+00, 3.69835601e+00,\n",
              "          3.87876362e+00, 5.41222831e+00, 1.09146604e+01, 1.97546333e+01,\n",
              "          2.36333970e+01, 2.60688997e+01, 3.40068346e+01, 3.03084785e+01,\n",
              "          3.13909242e+01, 4.32978265e+01, 7.45083431e+01, 6.98177452e+01,\n",
              "          6.67508158e+01, 8.42503540e+01, 9.06548242e+01, 1.07793547e+02,\n",
              "          1.28360015e+02, 1.28811034e+02, 1.13025368e+02, 1.02200911e+02,\n",
              "          5.88128810e+01, 4.91610738e+01, 5.23182070e+01, 5.51145250e+01,\n",
              "          3.08497014e+01, 2.70611416e-01, 9.02038052e-02],\n",
              "         [6.30503048e-01, 3.62539253e+00, 2.83726372e+00, 1.33981898e+00,\n",
              "          1.10338033e+00, 1.10338033e+00, 1.65507050e+00, 1.26100610e+00,\n",
              "          1.18219321e+00, 1.33981898e+00, 1.26100610e+00, 3.23132812e+00,\n",
              "          3.38895388e+00, 4.72877286e+00, 9.53635860e+00, 1.72600209e+01,\n",
              "          2.06489748e+01, 2.27769226e+01, 2.97124561e+01, 2.64811280e+01,\n",
              "          2.74268826e+01, 3.78301829e+01, 6.50994397e+01, 6.10011699e+01,\n",
              "          5.83215319e+01, 7.36112308e+01, 7.92069454e+01, 9.41813928e+01,\n",
              "          1.12150730e+02, 1.12544794e+02, 9.87525399e+01, 8.92949942e+01,\n",
              "          5.13859984e+01, 4.29530201e+01, 4.57114710e+01, 4.81546703e+01,\n",
              "          2.69540053e+01, 2.36438643e-01, 7.88128810e-02],\n",
              "         [4.16723108e-01, 2.39615787e+00, 1.87525399e+00, 8.85536605e-01,\n",
              "          7.29265439e-01, 7.29265439e-01, 1.09389816e+00, 8.33446216e-01,\n",
              "          7.81355828e-01, 8.85536605e-01, 8.33446216e-01, 2.13570593e+00,\n",
              "          2.23988671e+00, 3.12542331e+00, 6.30293701e+00, 1.14077951e+01,\n",
              "          1.36476818e+01, 1.50541223e+01, 1.96380765e+01, 1.75023705e+01,\n",
              "          1.81274552e+01, 2.50033865e+01, 4.30266609e+01, 4.03179607e+01,\n",
              "          3.85468875e+01, 4.86524229e+01, 5.23508405e+01, 6.22480143e+01,\n",
              "          7.41246229e+01, 7.43850748e+01, 6.52692568e+01, 5.90184102e+01,\n",
              "          3.39629333e+01, 2.83892617e+01, 3.02124253e+01, 3.18272274e+01,\n",
              "          1.78149129e+01, 1.56271166e-01, 5.20903885e-02],\n",
              "         [1.13244258e+00, 6.51154486e+00, 5.09599163e+00, 2.40644049e+00,\n",
              "          1.98177452e+00, 1.98177452e+00, 2.97266178e+00, 2.26488517e+00,\n",
              "          2.12332984e+00, 2.40644049e+00, 2.26488517e+00, 5.80376824e+00,\n",
              "          6.08687889e+00, 8.49331938e+00, 1.71281941e+01, 3.10006157e+01,\n",
              "          3.70874946e+01, 4.09094883e+01, 5.33663568e+01, 4.75625885e+01,\n",
              "          4.92612524e+01, 6.79465550e+01, 1.16924697e+02, 1.09563820e+02,\n",
              "          1.04750939e+02, 1.32212672e+02, 1.42263100e+02, 1.69158611e+02,\n",
              "          2.01433225e+02, 2.02141001e+02, 1.77368820e+02, 1.60382181e+02,\n",
              "          9.22940706e+01, 7.71476510e+01, 8.21020873e+01, 8.64903023e+01,\n",
              "          4.84119204e+01, 4.24665969e-01, 1.41555323e-01],\n",
              "         [3.29536359e-01, 1.89483406e+00, 1.48291361e+00, 7.00264762e-01,\n",
              "          5.76688628e-01, 5.76688628e-01, 8.65032941e-01, 6.59072717e-01,\n",
              "          6.17880672e-01, 7.00264762e-01, 6.59072717e-01, 1.68887384e+00,\n",
              "          1.77125793e+00, 2.47152269e+00, 4.98423742e+00, 9.02105782e+00,\n",
              "          1.07923157e+01, 1.19045010e+01, 1.55294009e+01, 1.38405271e+01,\n",
              "          1.43348316e+01, 1.97721815e+01, 3.40246290e+01, 3.18826427e+01,\n",
              "          3.04821132e+01, 3.84733699e+01, 4.13980050e+01, 4.92244936e+01,\n",
              "          5.86162798e+01, 5.88222400e+01, 5.16136322e+01, 4.66705868e+01,\n",
              "          2.68572132e+01, 2.24496644e+01, 2.38913860e+01, 2.51683394e+01,\n",
              "          1.40876793e+01, 1.23576134e-01, 4.11920448e-02]])))"
            ]
          },
          "metadata": {},
          "execution_count": 16
        }
      ]
    },
    {
      "cell_type": "markdown",
      "source": [
        "## 연도별로 장르마다 총 출고량 bar plot 도출: 1980~2020"
      ],
      "metadata": {
        "id": "00uU-Dks-z3H"
      }
    },
    {
      "cell_type": "code",
      "source": [
        "# 1980-1989\n",
        "lbb= ['Action', 'Adventure', 'Fighting', 'Misc','Platform','Puzzle','Racing',\n",
        "         'Role-Playing','Shooter','Simulation','Sports']\n",
        "indd = np.arange(len(lbb))\n",
        "\n",
        "plt.figure(figsize=(10,5))\n",
        "plt.bar(indd, S_df1.groupby('Genre').Total_Sales1.sum(),width=0.2)\n",
        "plt.title('1980-1989', fontsize=15)\n",
        "plt.xlabel('Genre', fontsize=12)\n",
        "plt.ylabel('Sales', fontsize=12)\n",
        "plt.xticks(indd, lbb, fontsize=9)\n",
        "plt.show()\n",
        "\n",
        "# 1990-1999\n",
        "lbb2= ['Action', 'Adventure', 'Fighting', 'Misc','Platform','Puzzle','Racing',\n",
        "         'Role-Playing','Shooter','Simulation','Sports', 'Strategy']\n",
        "indd2 = np.arange(len(lbb2))\n",
        "\n",
        "plt.figure(figsize=(10,5))\n",
        "plt.bar(indd2, S_df2.groupby('Genre').Total_Sales2.sum(),width=0.2)\n",
        "plt.title('1990-1999', fontsize=15)\n",
        "plt.xlabel('Genre', fontsize=12)\n",
        "plt.ylabel('Sales', fontsize=12)\n",
        "plt.xticks(indd2, lbb2, fontsize=9)\n",
        "plt.show()"
      ],
      "metadata": {
        "colab": {
          "base_uri": "https://localhost:8080/",
          "height": 691
        },
        "id": "x82-HzYWnXHG",
        "outputId": "c4b45c23-439a-4779-a26d-02edb751159b"
      },
      "execution_count": 18,
      "outputs": [
        {
          "output_type": "display_data",
          "data": {
            "image/png": "[encoded data removed]",
            "text/plain": [
              "<Figure size 720x360 with 1 Axes>"
            ]
          },
          "metadata": {
            "needs_background": "light"
          }
        },
        {
          "output_type": "display_data",
          "data": {
            "image/png": "[encoded data removed]",
            "text/plain": [
              "<Figure size 720x360 with 1 Axes>"
            ]
          },
          "metadata": {
            "needs_background": "light"
          }
        }
      ]
    },
    {
      "cell_type": "code",
      "source": [
        "# 2000-2009\n",
        "plt.figure(figsize=(10,5))\n",
        "plt.bar(indd2, S_df3.groupby('Genre').Total_Sales3.sum(),width=0.2)\n",
        "plt.title('2000-2009', fontsize=15)\n",
        "plt.xlabel('Genre', fontsize=12)\n",
        "plt.ylabel('Sales', fontsize=12)\n",
        "plt.xticks(indd2, lbb2, fontsize=9)\n",
        "plt.show()\n",
        "\n",
        "# 2010-2020\n",
        "plt.figure(figsize=(10,5))\n",
        "plt.bar(indd2, S_df4.groupby('Genre').Total_Sales4.sum(),width=0.2)\n",
        "plt.title('2010-2020', fontsize=15)\n",
        "plt.xlabel('Genre', fontsize=12)\n",
        "plt.ylabel('Sales', fontsize=12)\n",
        "plt.xticks(indd2, lbb2, fontsize=9)\n",
        "plt.show()"
      ],
      "metadata": {
        "colab": {
          "base_uri": "https://localhost:8080/",
          "height": 691
        },
        "id": "vlM_HOAJmCBk",
        "outputId": "bc7de9ad-83a0-4e26-f23c-579b74d34d03"
      },
      "execution_count": 19,
      "outputs": [
        {
          "output_type": "display_data",
          "data": {
            "image/png": "[encoded data removed]",
            "text/plain": [
              "<Figure size 720x360 with 1 Axes>"
            ]
          },
          "metadata": {
            "needs_background": "light"
          }
        },
        {
          "output_type": "display_data",
          "data": {
            "image/png": "[encoded data removed]",
            "text/plain": [
              "<Figure size 720x360 with 1 Axes>"
            ]
          },
          "metadata": {
            "needs_background": "light"
          }
        }
      ]
    },
    {
      "cell_type": "markdown",
      "source": [
        "--------------------------------------------------"
      ],
      "metadata": {
        "id": "x4E07jagjKgT"
      }
    },
    {
      "cell_type": "markdown",
      "source": [
        "# 3번"
      ],
      "metadata": {
        "id": "S6Ctcm2uI4Rs"
      }
    },
    {
      "cell_type": "markdown",
      "source": [
        "##출고량 높은 게임에 대한 분석 및 시각화"
      ],
      "metadata": {
        "id": "aAGOAUMWS8Wp"
      }
    },
    {
      "cell_type": "markdown",
      "source": [
        "### 1980년부터 2020년까지 총 출고량이 가장 많은 50개 데이터 추출하기"
      ],
      "metadata": {
        "id": "TWIzTGD6f8jA"
      }
    },
    {
      "cell_type": "code",
      "source": [
        "# all time 출고된 게임 df 중 가장 많이 팔린 게임 top 50개 추출하기\n",
        "max_df1 = df.nlargest(50, 'Total_Sales')\n",
        "max_df1"
      ],
      "metadata": {
        "colab": {
          "base_uri": "https://localhost:8080/",
          "height": 1000
        },
        "id": "VjBFoYQ0O1Cv",
        "outputId": "0adf70f8-0ee8-40fe-a953-d7065116724a"
      },
      "execution_count": 20,
      "outputs": [
        {
          "output_type": "execute_result",
          "data": {
            "text/html": [
              "<div>\n",
              "<style scoped>\n",
              "    .dataframe tbody tr th:only-of-type {\n",
              "        vertical-align: middle;\n",
              "    }\n",
              "\n",
              "    .dataframe tbody tr th {\n",
              "        vertical-align: top;\n",
              "    }\n",
              "\n",
              "    .dataframe thead th {\n",
              "        text-align: right;\n",
              "    }\n",
              "</style>\n",
              "<table border=\"1\" class=\"dataframe\">\n",
              "  <thead>\n",
              "    <tr style=\"text-align: right;\">\n",
              "      <th></th>\n",
              "      <th>Name</th>\n",
              "      <th>Platform</th>\n",
              "      <th>Year</th>\n",
              "      <th>Genre</th>\n",
              "      <th>Publisher</th>\n",
              "      <th>NA_Sales</th>\n",
              "      <th>EU_Sales</th>\n",
              "      <th>JP_Sales</th>\n",
              "      <th>Other_Sales</th>\n",
              "      <th>Total_Sales</th>\n",
              "    </tr>\n",
              "  </thead>\n",
              "  <tbody>\n",
              "    <tr>\n",
              "      <th>2908</th>\n",
              "      <td>Wii Sports</td>\n",
              "      <td>Wii</td>\n",
              "      <td>2006.0</td>\n",
              "      <td>Sports</td>\n",
              "      <td>Nintendo</td>\n",
              "      <td>41.49</td>\n",
              "      <td>29.02</td>\n",
              "      <td>3.77</td>\n",
              "      <td>8.46</td>\n",
              "      <td>82.74</td>\n",
              "    </tr>\n",
              "    <tr>\n",
              "      <th>4199</th>\n",
              "      <td>Super Mario Bros.</td>\n",
              "      <td>NES</td>\n",
              "      <td>1985.0</td>\n",
              "      <td>Platform</td>\n",
              "      <td>Nintendo</td>\n",
              "      <td>29.08</td>\n",
              "      <td>3.58</td>\n",
              "      <td>6.81</td>\n",
              "      <td>0.77</td>\n",
              "      <td>40.24</td>\n",
              "    </tr>\n",
              "    <tr>\n",
              "      <th>12579</th>\n",
              "      <td>Mario Kart Wii</td>\n",
              "      <td>Wii</td>\n",
              "      <td>2008.0</td>\n",
              "      <td>Racing</td>\n",
              "      <td>Nintendo</td>\n",
              "      <td>15.85</td>\n",
              "      <td>12.88</td>\n",
              "      <td>3.79</td>\n",
              "      <td>3.31</td>\n",
              "      <td>35.83</td>\n",
              "    </tr>\n",
              "    <tr>\n",
              "      <th>3352</th>\n",
              "      <td>Wii Sports Resort</td>\n",
              "      <td>Wii</td>\n",
              "      <td>2009.0</td>\n",
              "      <td>Sports</td>\n",
              "      <td>Nintendo</td>\n",
              "      <td>15.75</td>\n",
              "      <td>11.01</td>\n",
              "      <td>3.28</td>\n",
              "      <td>2.96</td>\n",
              "      <td>33.00</td>\n",
              "    </tr>\n",
              "    <tr>\n",
              "      <th>7829</th>\n",
              "      <td>Pokemon Red/Pokemon Blue</td>\n",
              "      <td>GB</td>\n",
              "      <td>1996.0</td>\n",
              "      <td>Role-Playing</td>\n",
              "      <td>Nintendo</td>\n",
              "      <td>11.27</td>\n",
              "      <td>8.89</td>\n",
              "      <td>10.22</td>\n",
              "      <td>1.00</td>\n",
              "      <td>31.38</td>\n",
              "    </tr>\n",
              "    <tr>\n",
              "      <th>1203</th>\n",
              "      <td>Tetris</td>\n",
              "      <td>GB</td>\n",
              "      <td>1989.0</td>\n",
              "      <td>Puzzle</td>\n",
              "      <td>Nintendo</td>\n",
              "      <td>23.20</td>\n",
              "      <td>2.26</td>\n",
              "      <td>4.22</td>\n",
              "      <td>0.58</td>\n",
              "      <td>30.26</td>\n",
              "    </tr>\n",
              "    <tr>\n",
              "      <th>6937</th>\n",
              "      <td>New Super Mario Bros.</td>\n",
              "      <td>DS</td>\n",
              "      <td>2006.0</td>\n",
              "      <td>Platform</td>\n",
              "      <td>Nintendo</td>\n",
              "      <td>11.38</td>\n",
              "      <td>9.23</td>\n",
              "      <td>6.50</td>\n",
              "      <td>2.90</td>\n",
              "      <td>30.01</td>\n",
              "    </tr>\n",
              "    <tr>\n",
              "      <th>3014</th>\n",
              "      <td>Wii Play</td>\n",
              "      <td>Wii</td>\n",
              "      <td>2006.0</td>\n",
              "      <td>Misc</td>\n",
              "      <td>Nintendo</td>\n",
              "      <td>14.03</td>\n",
              "      <td>9.20</td>\n",
              "      <td>2.93</td>\n",
              "      <td>2.85</td>\n",
              "      <td>29.01</td>\n",
              "    </tr>\n",
              "    <tr>\n",
              "      <th>16531</th>\n",
              "      <td>New Super Mario Bros. Wii</td>\n",
              "      <td>Wii</td>\n",
              "      <td>2009.0</td>\n",
              "      <td>Platform</td>\n",
              "      <td>Nintendo</td>\n",
              "      <td>14.59</td>\n",
              "      <td>7.06</td>\n",
              "      <td>4.70</td>\n",
              "      <td>2.26</td>\n",
              "      <td>28.61</td>\n",
              "    </tr>\n",
              "    <tr>\n",
              "      <th>10488</th>\n",
              "      <td>Duck Hunt</td>\n",
              "      <td>NES</td>\n",
              "      <td>1984.0</td>\n",
              "      <td>Shooter</td>\n",
              "      <td>Nintendo</td>\n",
              "      <td>26.93</td>\n",
              "      <td>0.63</td>\n",
              "      <td>0.28</td>\n",
              "      <td>0.47</td>\n",
              "      <td>28.31</td>\n",
              "    </tr>\n",
              "    <tr>\n",
              "      <th>11137</th>\n",
              "      <td>Nintendogs</td>\n",
              "      <td>DS</td>\n",
              "      <td>2005.0</td>\n",
              "      <td>Simulation</td>\n",
              "      <td>Nintendo</td>\n",
              "      <td>9.07</td>\n",
              "      <td>11.00</td>\n",
              "      <td>1.93</td>\n",
              "      <td>2.75</td>\n",
              "      <td>24.75</td>\n",
              "    </tr>\n",
              "    <tr>\n",
              "      <th>10650</th>\n",
              "      <td>Mario Kart DS</td>\n",
              "      <td>DS</td>\n",
              "      <td>2005.0</td>\n",
              "      <td>Racing</td>\n",
              "      <td>Nintendo</td>\n",
              "      <td>9.81</td>\n",
              "      <td>7.57</td>\n",
              "      <td>4.13</td>\n",
              "      <td>1.92</td>\n",
              "      <td>23.43</td>\n",
              "    </tr>\n",
              "    <tr>\n",
              "      <th>9416</th>\n",
              "      <td>Pokemon Gold/Pokemon Silver</td>\n",
              "      <td>GB</td>\n",
              "      <td>1999.0</td>\n",
              "      <td>Role-Playing</td>\n",
              "      <td>Nintendo</td>\n",
              "      <td>9.00</td>\n",
              "      <td>6.18</td>\n",
              "      <td>7.20</td>\n",
              "      <td>0.71</td>\n",
              "      <td>23.09</td>\n",
              "    </tr>\n",
              "    <tr>\n",
              "      <th>3435</th>\n",
              "      <td>Wii Fit</td>\n",
              "      <td>Wii</td>\n",
              "      <td>2007.0</td>\n",
              "      <td>Sports</td>\n",
              "      <td>Nintendo</td>\n",
              "      <td>8.94</td>\n",
              "      <td>8.03</td>\n",
              "      <td>3.60</td>\n",
              "      <td>2.15</td>\n",
              "      <td>22.72</td>\n",
              "    </tr>\n",
              "    <tr>\n",
              "      <th>10899</th>\n",
              "      <td>Wii Fit Plus</td>\n",
              "      <td>Wii</td>\n",
              "      <td>2009.0</td>\n",
              "      <td>Sports</td>\n",
              "      <td>Nintendo</td>\n",
              "      <td>9.09</td>\n",
              "      <td>8.59</td>\n",
              "      <td>2.53</td>\n",
              "      <td>1.79</td>\n",
              "      <td>22.00</td>\n",
              "    </tr>\n",
              "    <tr>\n",
              "      <th>4343</th>\n",
              "      <td>Kinect Adventures!</td>\n",
              "      <td>X360</td>\n",
              "      <td>2010.0</td>\n",
              "      <td>Misc</td>\n",
              "      <td>Microsoft Game Studios</td>\n",
              "      <td>14.97</td>\n",
              "      <td>4.94</td>\n",
              "      <td>0.24</td>\n",
              "      <td>1.67</td>\n",
              "      <td>21.82</td>\n",
              "    </tr>\n",
              "    <tr>\n",
              "      <th>3483</th>\n",
              "      <td>Grand Theft Auto V</td>\n",
              "      <td>PS3</td>\n",
              "      <td>2013.0</td>\n",
              "      <td>Action</td>\n",
              "      <td>Take-Two Interactive</td>\n",
              "      <td>7.01</td>\n",
              "      <td>9.27</td>\n",
              "      <td>0.97</td>\n",
              "      <td>4.14</td>\n",
              "      <td>21.39</td>\n",
              "    </tr>\n",
              "    <tr>\n",
              "      <th>14669</th>\n",
              "      <td>Grand Theft Auto: San Andreas</td>\n",
              "      <td>PS2</td>\n",
              "      <td>2004.0</td>\n",
              "      <td>Action</td>\n",
              "      <td>Take-Two Interactive</td>\n",
              "      <td>9.43</td>\n",
              "      <td>0.40</td>\n",
              "      <td>0.41</td>\n",
              "      <td>10.57</td>\n",
              "      <td>20.81</td>\n",
              "    </tr>\n",
              "    <tr>\n",
              "      <th>13111</th>\n",
              "      <td>Super Mario World</td>\n",
              "      <td>SNES</td>\n",
              "      <td>1990.0</td>\n",
              "      <td>Platform</td>\n",
              "      <td>Nintendo</td>\n",
              "      <td>12.78</td>\n",
              "      <td>3.75</td>\n",
              "      <td>3.54</td>\n",
              "      <td>0.55</td>\n",
              "      <td>20.62</td>\n",
              "    </tr>\n",
              "    <tr>\n",
              "      <th>13229</th>\n",
              "      <td>Brain Age: Train Your Brain in Minutes a Day</td>\n",
              "      <td>DS</td>\n",
              "      <td>2005.0</td>\n",
              "      <td>Misc</td>\n",
              "      <td>Nintendo</td>\n",
              "      <td>4.75</td>\n",
              "      <td>9.26</td>\n",
              "      <td>4.16</td>\n",
              "      <td>2.05</td>\n",
              "      <td>20.22</td>\n",
              "    </tr>\n",
              "    <tr>\n",
              "      <th>10555</th>\n",
              "      <td>Pokemon Diamond/Pokemon Pearl</td>\n",
              "      <td>DS</td>\n",
              "      <td>2006.0</td>\n",
              "      <td>Role-Playing</td>\n",
              "      <td>Nintendo</td>\n",
              "      <td>6.42</td>\n",
              "      <td>4.52</td>\n",
              "      <td>6.04</td>\n",
              "      <td>1.37</td>\n",
              "      <td>18.35</td>\n",
              "    </tr>\n",
              "    <tr>\n",
              "      <th>9491</th>\n",
              "      <td>Super Mario Land</td>\n",
              "      <td>GB</td>\n",
              "      <td>1989.0</td>\n",
              "      <td>Platform</td>\n",
              "      <td>Nintendo</td>\n",
              "      <td>10.83</td>\n",
              "      <td>2.71</td>\n",
              "      <td>4.18</td>\n",
              "      <td>0.42</td>\n",
              "      <td>18.14</td>\n",
              "    </tr>\n",
              "    <tr>\n",
              "      <th>14856</th>\n",
              "      <td>Super Mario Bros. 3</td>\n",
              "      <td>NES</td>\n",
              "      <td>1988.0</td>\n",
              "      <td>Platform</td>\n",
              "      <td>Nintendo</td>\n",
              "      <td>9.54</td>\n",
              "      <td>3.44</td>\n",
              "      <td>3.84</td>\n",
              "      <td>0.46</td>\n",
              "      <td>17.28</td>\n",
              "    </tr>\n",
              "    <tr>\n",
              "      <th>10913</th>\n",
              "      <td>Grand Theft Auto V</td>\n",
              "      <td>X360</td>\n",
              "      <td>2013.0</td>\n",
              "      <td>Action</td>\n",
              "      <td>Take-Two Interactive</td>\n",
              "      <td>9.63</td>\n",
              "      <td>5.31</td>\n",
              "      <td>0.06</td>\n",
              "      <td>1.38</td>\n",
              "      <td>16.38</td>\n",
              "    </tr>\n",
              "    <tr>\n",
              "      <th>5340</th>\n",
              "      <td>Grand Theft Auto: Vice City</td>\n",
              "      <td>PS2</td>\n",
              "      <td>2002.0</td>\n",
              "      <td>Action</td>\n",
              "      <td>Take-Two Interactive</td>\n",
              "      <td>8.41</td>\n",
              "      <td>5.49</td>\n",
              "      <td>0.47</td>\n",
              "      <td>1.78</td>\n",
              "      <td>16.15</td>\n",
              "    </tr>\n",
              "    <tr>\n",
              "      <th>10917</th>\n",
              "      <td>Pokemon Ruby/Pokemon Sapphire</td>\n",
              "      <td>GBA</td>\n",
              "      <td>2002.0</td>\n",
              "      <td>Role-Playing</td>\n",
              "      <td>Nintendo</td>\n",
              "      <td>6.06</td>\n",
              "      <td>3.90</td>\n",
              "      <td>5.38</td>\n",
              "      <td>0.50</td>\n",
              "      <td>15.84</td>\n",
              "    </tr>\n",
              "    <tr>\n",
              "      <th>10621</th>\n",
              "      <td>Pokemon Black/Pokemon White</td>\n",
              "      <td>DS</td>\n",
              "      <td>2010.0</td>\n",
              "      <td>Role-Playing</td>\n",
              "      <td>Nintendo</td>\n",
              "      <td>5.57</td>\n",
              "      <td>3.28</td>\n",
              "      <td>5.65</td>\n",
              "      <td>0.82</td>\n",
              "      <td>15.32</td>\n",
              "    </tr>\n",
              "    <tr>\n",
              "      <th>511</th>\n",
              "      <td>Brain Age 2: More Training in Minutes a Day</td>\n",
              "      <td>DS</td>\n",
              "      <td>2005.0</td>\n",
              "      <td>Puzzle</td>\n",
              "      <td>Nintendo</td>\n",
              "      <td>3.44</td>\n",
              "      <td>5.36</td>\n",
              "      <td>5.32</td>\n",
              "      <td>1.18</td>\n",
              "      <td>15.30</td>\n",
              "    </tr>\n",
              "    <tr>\n",
              "      <th>1005</th>\n",
              "      <td>Gran Turismo 3: A-Spec</td>\n",
              "      <td>PS2</td>\n",
              "      <td>2001.0</td>\n",
              "      <td>Racing</td>\n",
              "      <td>Sony Computer Entertainment</td>\n",
              "      <td>6.85</td>\n",
              "      <td>5.09</td>\n",
              "      <td>1.87</td>\n",
              "      <td>1.16</td>\n",
              "      <td>14.97</td>\n",
              "    </tr>\n",
              "    <tr>\n",
              "      <th>2809</th>\n",
              "      <td>Call of Duty: Modern Warfare 3</td>\n",
              "      <td>X360</td>\n",
              "      <td>2011.0</td>\n",
              "      <td>Shooter</td>\n",
              "      <td>Activision</td>\n",
              "      <td>9.03</td>\n",
              "      <td>4.28</td>\n",
              "      <td>0.13</td>\n",
              "      <td>1.32</td>\n",
              "      <td>14.76</td>\n",
              "    </tr>\n",
              "    <tr>\n",
              "      <th>8533</th>\n",
              "      <td>Pokémon Yellow: Special Pikachu Edition</td>\n",
              "      <td>GB</td>\n",
              "      <td>1998.0</td>\n",
              "      <td>Role-Playing</td>\n",
              "      <td>Nintendo</td>\n",
              "      <td>5.89</td>\n",
              "      <td>5.04</td>\n",
              "      <td>3.12</td>\n",
              "      <td>0.59</td>\n",
              "      <td>14.64</td>\n",
              "    </tr>\n",
              "    <tr>\n",
              "      <th>6248</th>\n",
              "      <td>Call of Duty: Black Ops</td>\n",
              "      <td>X360</td>\n",
              "      <td>2010.0</td>\n",
              "      <td>Shooter</td>\n",
              "      <td>Activision</td>\n",
              "      <td>9.67</td>\n",
              "      <td>3.73</td>\n",
              "      <td>0.11</td>\n",
              "      <td>1.13</td>\n",
              "      <td>14.64</td>\n",
              "    </tr>\n",
              "    <tr>\n",
              "      <th>9070</th>\n",
              "      <td>Call of Duty: Black Ops 3</td>\n",
              "      <td>PS4</td>\n",
              "      <td>2015.0</td>\n",
              "      <td>Shooter</td>\n",
              "      <td>Activision</td>\n",
              "      <td>5.77</td>\n",
              "      <td>5.81</td>\n",
              "      <td>0.35</td>\n",
              "      <td>2.31</td>\n",
              "      <td>14.24</td>\n",
              "    </tr>\n",
              "    <tr>\n",
              "      <th>4240</th>\n",
              "      <td>Call of Duty: Black Ops II</td>\n",
              "      <td>PS3</td>\n",
              "      <td>2012.0</td>\n",
              "      <td>Shooter</td>\n",
              "      <td>Activision</td>\n",
              "      <td>4.99</td>\n",
              "      <td>5.88</td>\n",
              "      <td>0.65</td>\n",
              "      <td>2.52</td>\n",
              "      <td>14.04</td>\n",
              "    </tr>\n",
              "    <tr>\n",
              "      <th>6393</th>\n",
              "      <td>Call of Duty: Black Ops II</td>\n",
              "      <td>X360</td>\n",
              "      <td>2012.0</td>\n",
              "      <td>Shooter</td>\n",
              "      <td>Activision</td>\n",
              "      <td>8.25</td>\n",
              "      <td>4.30</td>\n",
              "      <td>0.07</td>\n",
              "      <td>1.12</td>\n",
              "      <td>13.74</td>\n",
              "    </tr>\n",
              "    <tr>\n",
              "      <th>6236</th>\n",
              "      <td>Call of Duty: Modern Warfare 2</td>\n",
              "      <td>X360</td>\n",
              "      <td>2009.0</td>\n",
              "      <td>Shooter</td>\n",
              "      <td>Activision</td>\n",
              "      <td>8.52</td>\n",
              "      <td>3.63</td>\n",
              "      <td>0.08</td>\n",
              "      <td>1.29</td>\n",
              "      <td>13.52</td>\n",
              "    </tr>\n",
              "    <tr>\n",
              "      <th>14120</th>\n",
              "      <td>Call of Duty: Modern Warfare 3</td>\n",
              "      <td>PS3</td>\n",
              "      <td>2011.0</td>\n",
              "      <td>Shooter</td>\n",
              "      <td>Activision</td>\n",
              "      <td>5.54</td>\n",
              "      <td>5.82</td>\n",
              "      <td>0.49</td>\n",
              "      <td>1.62</td>\n",
              "      <td>13.47</td>\n",
              "    </tr>\n",
              "    <tr>\n",
              "      <th>9786</th>\n",
              "      <td>Grand Theft Auto III</td>\n",
              "      <td>PS2</td>\n",
              "      <td>2001.0</td>\n",
              "      <td>Action</td>\n",
              "      <td>Take-Two Interactive</td>\n",
              "      <td>6.99</td>\n",
              "      <td>4.51</td>\n",
              "      <td>0.30</td>\n",
              "      <td>1.30</td>\n",
              "      <td>13.10</td>\n",
              "    </tr>\n",
              "    <tr>\n",
              "      <th>14902</th>\n",
              "      <td>Super Smash Bros. Brawl</td>\n",
              "      <td>Wii</td>\n",
              "      <td>2008.0</td>\n",
              "      <td>Fighting</td>\n",
              "      <td>Nintendo</td>\n",
              "      <td>6.75</td>\n",
              "      <td>2.61</td>\n",
              "      <td>2.66</td>\n",
              "      <td>1.02</td>\n",
              "      <td>13.04</td>\n",
              "    </tr>\n",
              "    <tr>\n",
              "      <th>9924</th>\n",
              "      <td>Call of Duty: Black Ops</td>\n",
              "      <td>PS3</td>\n",
              "      <td>2010.0</td>\n",
              "      <td>Shooter</td>\n",
              "      <td>Activision</td>\n",
              "      <td>5.98</td>\n",
              "      <td>4.44</td>\n",
              "      <td>0.48</td>\n",
              "      <td>1.83</td>\n",
              "      <td>12.73</td>\n",
              "    </tr>\n",
              "    <tr>\n",
              "      <th>3273</th>\n",
              "      <td>Animal Crossing: Wild World</td>\n",
              "      <td>DS</td>\n",
              "      <td>2005.0</td>\n",
              "      <td>Simulation</td>\n",
              "      <td>Nintendo</td>\n",
              "      <td>2.55</td>\n",
              "      <td>3.52</td>\n",
              "      <td>5.33</td>\n",
              "      <td>0.88</td>\n",
              "      <td>12.28</td>\n",
              "    </tr>\n",
              "    <tr>\n",
              "      <th>11123</th>\n",
              "      <td>Mario Kart 7</td>\n",
              "      <td>3DS</td>\n",
              "      <td>2011.0</td>\n",
              "      <td>Racing</td>\n",
              "      <td>Nintendo</td>\n",
              "      <td>4.74</td>\n",
              "      <td>3.91</td>\n",
              "      <td>2.67</td>\n",
              "      <td>0.89</td>\n",
              "      <td>12.21</td>\n",
              "    </tr>\n",
              "    <tr>\n",
              "      <th>6291</th>\n",
              "      <td>Halo 3</td>\n",
              "      <td>X360</td>\n",
              "      <td>2007.0</td>\n",
              "      <td>Shooter</td>\n",
              "      <td>Microsoft Game Studios</td>\n",
              "      <td>7.97</td>\n",
              "      <td>2.83</td>\n",
              "      <td>0.13</td>\n",
              "      <td>1.21</td>\n",
              "      <td>12.14</td>\n",
              "    </tr>\n",
              "    <tr>\n",
              "      <th>2008</th>\n",
              "      <td>Grand Theft Auto V</td>\n",
              "      <td>PS4</td>\n",
              "      <td>2014.0</td>\n",
              "      <td>Action</td>\n",
              "      <td>Take-Two Interactive</td>\n",
              "      <td>3.80</td>\n",
              "      <td>5.81</td>\n",
              "      <td>0.36</td>\n",
              "      <td>2.02</td>\n",
              "      <td>11.99</td>\n",
              "    </tr>\n",
              "    <tr>\n",
              "      <th>6458</th>\n",
              "      <td>Super Mario 64</td>\n",
              "      <td>N64</td>\n",
              "      <td>1996.0</td>\n",
              "      <td>Platform</td>\n",
              "      <td>Nintendo</td>\n",
              "      <td>6.91</td>\n",
              "      <td>2.85</td>\n",
              "      <td>1.91</td>\n",
              "      <td>0.23</td>\n",
              "      <td>11.90</td>\n",
              "    </tr>\n",
              "    <tr>\n",
              "      <th>4806</th>\n",
              "      <td>Pokemon HeartGold/Pokemon SoulSilver</td>\n",
              "      <td>DS</td>\n",
              "      <td>2009.0</td>\n",
              "      <td>Action</td>\n",
              "      <td>Nintendo</td>\n",
              "      <td>4.40</td>\n",
              "      <td>2.77</td>\n",
              "      <td>3.96</td>\n",
              "      <td>0.77</td>\n",
              "      <td>11.90</td>\n",
              "    </tr>\n",
              "    <tr>\n",
              "      <th>14665</th>\n",
              "      <td>Gran Turismo 4</td>\n",
              "      <td>PS2</td>\n",
              "      <td>2004.0</td>\n",
              "      <td>Racing</td>\n",
              "      <td>Sony Computer Entertainment</td>\n",
              "      <td>3.01</td>\n",
              "      <td>0.01</td>\n",
              "      <td>1.10</td>\n",
              "      <td>7.53</td>\n",
              "      <td>11.65</td>\n",
              "    </tr>\n",
              "    <tr>\n",
              "      <th>12405</th>\n",
              "      <td>Super Mario Galaxy</td>\n",
              "      <td>Wii</td>\n",
              "      <td>2007.0</td>\n",
              "      <td>Platform</td>\n",
              "      <td>Nintendo</td>\n",
              "      <td>6.16</td>\n",
              "      <td>3.40</td>\n",
              "      <td>1.20</td>\n",
              "      <td>0.76</td>\n",
              "      <td>11.52</td>\n",
              "    </tr>\n",
              "    <tr>\n",
              "      <th>4251</th>\n",
              "      <td>Pokemon Omega Ruby/Pokemon Alpha Sapphire</td>\n",
              "      <td>3DS</td>\n",
              "      <td>2014.0</td>\n",
              "      <td>Role-Playing</td>\n",
              "      <td>Nintendo</td>\n",
              "      <td>4.23</td>\n",
              "      <td>3.37</td>\n",
              "      <td>3.08</td>\n",
              "      <td>0.65</td>\n",
              "      <td>11.33</td>\n",
              "    </tr>\n",
              "    <tr>\n",
              "      <th>6847</th>\n",
              "      <td>Super Mario Land 2: 6 Golden Coins</td>\n",
              "      <td>GB</td>\n",
              "      <td>1992.0</td>\n",
              "      <td>Adventure</td>\n",
              "      <td>Nintendo</td>\n",
              "      <td>6.16</td>\n",
              "      <td>2.04</td>\n",
              "      <td>2.69</td>\n",
              "      <td>0.29</td>\n",
              "      <td>11.18</td>\n",
              "    </tr>\n",
              "  </tbody>\n",
              "</table>\n",
              "</div>"
            ],
            "text/plain": [
              "                                               Name  ... Total_Sales\n",
              "2908                                     Wii Sports  ...       82.74\n",
              "4199                              Super Mario Bros.  ...       40.24\n",
              "12579                                Mario Kart Wii  ...       35.83\n",
              "3352                              Wii Sports Resort  ...       33.00\n",
              "7829                       Pokemon Red/Pokemon Blue  ...       31.38\n",
              "1203                                         Tetris  ...       30.26\n",
              "6937                          New Super Mario Bros.  ...       30.01\n",
              "3014                                       Wii Play  ...       29.01\n",
              "16531                     New Super Mario Bros. Wii  ...       28.61\n",
              "10488                                     Duck Hunt  ...       28.31\n",
              "11137                                    Nintendogs  ...       24.75\n",
              "10650                                 Mario Kart DS  ...       23.43\n",
              "9416                    Pokemon Gold/Pokemon Silver  ...       23.09\n",
              "3435                                        Wii Fit  ...       22.72\n",
              "10899                                  Wii Fit Plus  ...       22.00\n",
              "4343                             Kinect Adventures!  ...       21.82\n",
              "3483                             Grand Theft Auto V  ...       21.39\n",
              "14669                 Grand Theft Auto: San Andreas  ...       20.81\n",
              "13111                             Super Mario World  ...       20.62\n",
              "13229  Brain Age: Train Your Brain in Minutes a Day  ...       20.22\n",
              "10555                 Pokemon Diamond/Pokemon Pearl  ...       18.35\n",
              "9491                               Super Mario Land  ...       18.14\n",
              "14856                           Super Mario Bros. 3  ...       17.28\n",
              "10913                            Grand Theft Auto V  ...       16.38\n",
              "5340                    Grand Theft Auto: Vice City  ...       16.15\n",
              "10917                 Pokemon Ruby/Pokemon Sapphire  ...       15.84\n",
              "10621                   Pokemon Black/Pokemon White  ...       15.32\n",
              "511     Brain Age 2: More Training in Minutes a Day  ...       15.30\n",
              "1005                         Gran Turismo 3: A-Spec  ...       14.97\n",
              "2809                 Call of Duty: Modern Warfare 3  ...       14.76\n",
              "8533        Pokémon Yellow: Special Pikachu Edition  ...       14.64\n",
              "6248                        Call of Duty: Black Ops  ...       14.64\n",
              "9070                      Call of Duty: Black Ops 3  ...       14.24\n",
              "4240                     Call of Duty: Black Ops II  ...       14.04\n",
              "6393                     Call of Duty: Black Ops II  ...       13.74\n",
              "6236                 Call of Duty: Modern Warfare 2  ...       13.52\n",
              "14120                Call of Duty: Modern Warfare 3  ...       13.47\n",
              "9786                           Grand Theft Auto III  ...       13.10\n",
              "14902                       Super Smash Bros. Brawl  ...       13.04\n",
              "9924                        Call of Duty: Black Ops  ...       12.73\n",
              "3273                    Animal Crossing: Wild World  ...       12.28\n",
              "11123                                  Mario Kart 7  ...       12.21\n",
              "6291                                         Halo 3  ...       12.14\n",
              "2008                             Grand Theft Auto V  ...       11.99\n",
              "6458                                 Super Mario 64  ...       11.90\n",
              "4806           Pokemon HeartGold/Pokemon SoulSilver  ...       11.90\n",
              "14665                                Gran Turismo 4  ...       11.65\n",
              "12405                            Super Mario Galaxy  ...       11.52\n",
              "4251      Pokemon Omega Ruby/Pokemon Alpha Sapphire  ...       11.33\n",
              "6847             Super Mario Land 2: 6 Golden Coins  ...       11.18\n",
              "\n",
              "[50 rows x 10 columns]"
            ]
          },
          "metadata": {},
          "execution_count": 20
        }
      ]
    },
    {
      "cell_type": "markdown",
      "source": [
        "### 총 출고량 top 50에서 연도, 장르, 플랫폼과 총 출고량의 연관성 확인: chi square test&line plot"
      ],
      "metadata": {
        "id": "yynrRAAggEs5"
      }
    },
    {
      "cell_type": "code",
      "source": [
        "# chi square test-> H0: alltime 연도와 출고량이 서로 연관이 없다.(모든 게임)\n",
        "rc5_resayt = stats.chi2_contingency(pd.crosstab(index=df['Total_Sales'], columns=df['Year']))\n",
        "rc5_resayt # pvalue 0.0 -> 연도랑 출고량 관련 o"
      ],
      "metadata": {
        "colab": {
          "base_uri": "https://localhost:8080/"
        },
        "id": "1Syy1CvjRYBQ",
        "outputId": "5bc240c6-108e-4720-822a-48b4300641d4"
      },
      "execution_count": 21,
      "outputs": [
        {
          "output_type": "execute_result",
          "data": {
            "text/plain": [
              "(74243.87970280694,\n",
              " 0.0,\n",
              " 38114,\n",
              " array([[4.92580506e-04, 2.83233791e-03, 2.21661228e-03, ...,\n",
              "         2.10578166e-02, 1.84717690e-04, 6.15725633e-05],\n",
              "        [3.72883443e-01, 2.14407980e+00, 1.67797549e+00, ...,\n",
              "         1.59407672e+01, 1.39831291e-01, 4.66104304e-02],\n",
              "        [4.80265993e-01, 2.76152946e+00, 2.16119697e+00, ...,\n",
              "         2.05313712e+01, 1.80099748e-01, 6.00332492e-02],\n",
              "        ...,\n",
              "        [4.92580506e-04, 2.83233791e-03, 2.21661228e-03, ...,\n",
              "         2.10578166e-02, 1.84717690e-04, 6.15725633e-05],\n",
              "        [4.92580506e-04, 2.83233791e-03, 2.21661228e-03, ...,\n",
              "         2.10578166e-02, 1.84717690e-04, 6.15725633e-05],\n",
              "        [4.92580506e-04, 2.83233791e-03, 2.21661228e-03, ...,\n",
              "         2.10578166e-02, 1.84717690e-04, 6.15725633e-05]]))"
            ]
          },
          "metadata": {},
          "execution_count": 21
        }
      ]
    },
    {
      "cell_type": "code",
      "source": [
        "# all time top 50: 언제 출시된 게임이 제일 많은지 확인\n",
        "plt.plot(max_df1.groupby('Year').Total_Sales.count(), marker='o', color='g')\n",
        "plt.title('1980-2020', fontsize=12) \n",
        "plt.xlabel('Year', fontsize=11)\n",
        "plt.ylabel('number', fontsize=11)\n",
        "plt.show()"
      ],
      "metadata": {
        "colab": {
          "base_uri": "https://localhost:8080/",
          "height": 295
        },
        "id": "nZZsNdNXO02X",
        "outputId": "e4e058f2-a309-4b92-8a5f-34509f1d9f33"
      },
      "execution_count": 22,
      "outputs": [
        {
          "output_type": "display_data",
          "data": {
            "image/png": "[encoded data removed]",
            "text/plain": [
              "<Figure size 432x288 with 1 Axes>"
            ]
          },
          "metadata": {
            "needs_background": "light"
          }
        }
      ]
    },
    {
      "cell_type": "code",
      "source": [
        "# chi square test-> H0: alltime 모든 게임 장르와 출고량이 서로 연관이 없다.\n",
        "rc5_resagt = stats.chi2_contingency(pd.crosstab(index=df['Total_Sales'], columns=df['Genre']))\n",
        "rc5_resagt # pvalue 5.212202881576482e-06 -> 관련 o"
      ],
      "metadata": {
        "colab": {
          "base_uri": "https://localhost:8080/"
        },
        "id": "NlOMQQumTClU",
        "outputId": "eb8b1fd0-6339-423e-fc03-239197a9d50f"
      },
      "execution_count": 23,
      "outputs": [
        {
          "output_type": "execute_result",
          "data": {
            "text/plain": [
              "(11700.146876940114,\n",
              " 5.212202881576482e-06,\n",
              " 11033,\n",
              " array([[1.99495105e-01, 7.80740102e-02, 5.14130903e-02, ...,\n",
              "         5.20903885e-02, 1.41555323e-01, 4.11920448e-02],\n",
              "        [1.51017794e+02, 5.91020257e+01, 3.89197094e+01, ...,\n",
              "         3.94324241e+01, 1.07157379e+02, 3.11823779e+01],\n",
              "        [1.94507727e+02, 7.61221600e+01, 5.01277631e+01, ...,\n",
              "         5.07881288e+01, 1.38016440e+02, 4.01622437e+01],\n",
              "        ...,\n",
              "        [1.99495105e-01, 7.80740102e-02, 5.14130903e-02, ...,\n",
              "         5.20903885e-02, 1.41555323e-01, 4.11920448e-02],\n",
              "        [1.99495105e-01, 7.80740102e-02, 5.14130903e-02, ...,\n",
              "         5.20903885e-02, 1.41555323e-01, 4.11920448e-02],\n",
              "        [1.99495105e-01, 7.80740102e-02, 5.14130903e-02, ...,\n",
              "         5.20903885e-02, 1.41555323e-01, 4.11920448e-02]]))"
            ]
          },
          "metadata": {},
          "execution_count": 23
        }
      ]
    },
    {
      "cell_type": "code",
      "source": [
        "# all time top 50에 어떤 장르가 제일 많은지 확인\n",
        "plt.figure(figsize=(12,4))\n",
        "plt.plot(max_df1.groupby('Genre').Total_Sales.count(), marker='o', color='b')\n",
        "plt.title('1980-2020', fontsize=13) \n",
        "plt.xlabel('Genre', fontsize=13)\n",
        "plt.ylabel('number', fontsize=13)\n",
        "plt.show()"
      ],
      "metadata": {
        "colab": {
          "base_uri": "https://localhost:8080/",
          "height": 297
        },
        "id": "4hn9Ju11U9BU",
        "outputId": "4cc3edf2-bde2-4715-e6d4-472437584bea"
      },
      "execution_count": 24,
      "outputs": [
        {
          "output_type": "display_data",
          "data": {
            "image/png": "[encoded data removed]",
            "text/plain": [
              "<Figure size 864x288 with 1 Axes>"
            ]
          },
          "metadata": {
            "needs_background": "light"
          }
        }
      ]
    },
    {
      "cell_type": "code",
      "source": [
        "# chi square test-> H0: alltime 모든 게임 플랫폼과 출고량이 서로 연관이 없다.\n",
        "rc5_resaplt = stats.chi2_contingency(pd.crosstab(index=df['Total_Sales'], columns=df['Platform']))\n",
        "rc5_resaplt # pvalue 7.1827567388788175e-236 -> 관련 o"
      ],
      "metadata": {
        "colab": {
          "base_uri": "https://localhost:8080/"
        },
        "id": "YZbogLjbU7E0",
        "outputId": "62523b94-1323-4a93-b73c-da079221ec83"
      },
      "execution_count": 25,
      "outputs": [
        {
          "output_type": "execute_result",
          "data": {
            "text/plain": [
              "(38860.35382219998,\n",
              " 7.1827567388788175e-236,\n",
              " 30090,\n",
              " array([[7.08084478e-03, 1.84717690e-04, 3.06631365e-02, ...,\n",
              "         7.57958254e-02, 4.91964780e-02, 1.30533834e-02],\n",
              "        [5.36019950e+00, 1.39831291e-01, 2.32119943e+01, ...,\n",
              "         5.73774398e+01, 3.72417339e+01, 9.88141124e+00],\n",
              "        [6.90382366e+00, 1.80099748e-01, 2.98965581e+01, ...,\n",
              "         7.39009297e+01, 4.79665661e+01, 1.27270488e+01],\n",
              "        ...,\n",
              "        [7.08084478e-03, 1.84717690e-04, 3.06631365e-02, ...,\n",
              "         7.57958254e-02, 4.91964780e-02, 1.30533834e-02],\n",
              "        [7.08084478e-03, 1.84717690e-04, 3.06631365e-02, ...,\n",
              "         7.57958254e-02, 4.91964780e-02, 1.30533834e-02],\n",
              "        [7.08084478e-03, 1.84717690e-04, 3.06631365e-02, ...,\n",
              "         7.57958254e-02, 4.91964780e-02, 1.30533834e-02]]))"
            ]
          },
          "metadata": {},
          "execution_count": 25
        }
      ]
    },
    {
      "cell_type": "code",
      "source": [
        "# all time top 50에 어떤 platform 제일 많은지 확인\n",
        "plt.figure(figsize=(8,4))\n",
        "plt.plot(max_df1.groupby('Platform').Total_Sales.count(), marker='o', color='orange')\n",
        "plt.title('1980-2020', fontsize=13) \n",
        "plt.xlabel('Platform', fontsize=13)\n",
        "plt.ylabel('number', fontsize=13)\n",
        "plt.show()"
      ],
      "metadata": {
        "colab": {
          "base_uri": "https://localhost:8080/",
          "height": 297
        },
        "id": "nqW_fjPaTCiW",
        "outputId": "61ed29e3-40da-4c02-ad29-c50cb9194a54"
      },
      "execution_count": 26,
      "outputs": [
        {
          "output_type": "display_data",
          "data": {
            "image/png": "[encoded data removed]",
            "text/plain": [
              "<Figure size 576x288 with 1 Axes>"
            ]
          },
          "metadata": {
            "needs_background": "light"
          }
        }
      ]
    },
    {
      "cell_type": "markdown",
      "source": [
        "### top 50에 포함되는 2005~2010년 출시된 게임들의 장르별/플랫폼별 분포도: line plot"
      ],
      "metadata": {
        "id": "vPdYCYsLglav"
      }
    },
    {
      "cell_type": "code",
      "source": [
        "# top 50 중 2005~2010 출시된 게임 장르 및 플랫폼 라인플럿\n",
        "mmax=max_df1[(max_df1['Year']>= 2005.0) & (max_df1['Year'] < 2011.0)]\n",
        "\n",
        "plt.figure(figsize=(10,4))\n",
        "plt.plot(mmax.groupby('Genre').Total_Sales.count(), marker='o', color='pink')\n",
        "plt.title('top 50', fontsize=13) \n",
        "plt.xlabel('Genre', fontsize=13)\n",
        "plt.ylabel('num', fontsize=13)\n",
        "plt.show()"
      ],
      "metadata": {
        "colab": {
          "base_uri": "https://localhost:8080/",
          "height": 297
        },
        "id": "Gmj2c1RgZab9",
        "outputId": "1df7aa97-4e43-433f-ad4e-095c5f43fe04"
      },
      "execution_count": 28,
      "outputs": [
        {
          "output_type": "display_data",
          "data": {
            "image/png": "[encoded data removed]",
            "text/plain": [
              "<Figure size 720x288 with 1 Axes>"
            ]
          },
          "metadata": {
            "needs_background": "light"
          }
        }
      ]
    },
    {
      "cell_type": "code",
      "source": [
        "plt.figure(figsize=(4,4))\n",
        "plt.plot(mmax.groupby('Platform').Total_Sales.count(), marker='o', color='orange')\n",
        "plt.title('top 50', fontsize=13) \n",
        "plt.xlabel('Platform', fontsize=13)\n",
        "plt.ylabel('num', fontsize=13)\n",
        "plt.show()"
      ],
      "metadata": {
        "colab": {
          "base_uri": "https://localhost:8080/",
          "height": 297
        },
        "id": "YbIxLR6LgKpj",
        "outputId": "85a84d02-ef4b-48e2-ee63-6080e2d7048a"
      },
      "execution_count": 47,
      "outputs": [
        {
          "output_type": "display_data",
          "data": {
            "image/png": "[encoded data removed]",
            "text/plain": [
              "<Figure size 288x288 with 1 Axes>"
            ]
          },
          "metadata": {
            "needs_background": "light"
          }
        }
      ]
    },
    {
      "cell_type": "markdown",
      "source": [
        "## 다음 출시할 게임에 대한 분석"
      ],
      "metadata": {
        "id": "AkAQUfifS4gE"
      }
    },
    {
      "cell_type": "markdown",
      "source": [
        "### 최근 5년간 출시된 게임 중 가장 많이 팔린 top 30 추출"
      ],
      "metadata": {
        "id": "kQm-_nGehFct"
      }
    },
    {
      "cell_type": "code",
      "source": [
        "# 최근 5년간 출고된 게임 df 중 가장 많이 팔린 게임 top 30개 추출하기\n",
        "S_df5=df[(df['Year']>= 2016.0) & (df['Year'] <= 2020.0)]\n",
        "\n",
        "max_df5 = S_df5.nlargest(30, 'Total_Sales')\n",
        "max_df5"
      ],
      "metadata": {
        "colab": {
          "base_uri": "https://localhost:8080/",
          "height": 990
        },
        "id": "sN4FL59eJPPe",
        "outputId": "cd69290e-9239-436d-8cb9-354353f9b292"
      },
      "execution_count": 30,
      "outputs": [
        {
          "output_type": "execute_result",
          "data": {
            "text/html": [
              "<div>\n",
              "<style scoped>\n",
              "    .dataframe tbody tr th:only-of-type {\n",
              "        vertical-align: middle;\n",
              "    }\n",
              "\n",
              "    .dataframe tbody tr th {\n",
              "        vertical-align: top;\n",
              "    }\n",
              "\n",
              "    .dataframe thead th {\n",
              "        text-align: right;\n",
              "    }\n",
              "</style>\n",
              "<table border=\"1\" class=\"dataframe\">\n",
              "  <thead>\n",
              "    <tr style=\"text-align: right;\">\n",
              "      <th></th>\n",
              "      <th>Name</th>\n",
              "      <th>Platform</th>\n",
              "      <th>Year</th>\n",
              "      <th>Genre</th>\n",
              "      <th>Publisher</th>\n",
              "      <th>NA_Sales</th>\n",
              "      <th>EU_Sales</th>\n",
              "      <th>JP_Sales</th>\n",
              "      <th>Other_Sales</th>\n",
              "      <th>Total_Sales</th>\n",
              "    </tr>\n",
              "  </thead>\n",
              "  <tbody>\n",
              "    <tr>\n",
              "      <th>15481</th>\n",
              "      <td>FIFA 17</td>\n",
              "      <td>PS4</td>\n",
              "      <td>2016.0</td>\n",
              "      <td>Sports</td>\n",
              "      <td>Electronic Arts</td>\n",
              "      <td>0.28</td>\n",
              "      <td>3.75</td>\n",
              "      <td>0.06</td>\n",
              "      <td>0.69</td>\n",
              "      <td>4.78</td>\n",
              "    </tr>\n",
              "    <tr>\n",
              "      <th>4010</th>\n",
              "      <td>Uncharted 4: A Thief's End</td>\n",
              "      <td>PS4</td>\n",
              "      <td>2016.0</td>\n",
              "      <td>Shooter</td>\n",
              "      <td>Sony Computer Entertainment</td>\n",
              "      <td>1.30</td>\n",
              "      <td>2.07</td>\n",
              "      <td>0.18</td>\n",
              "      <td>0.65</td>\n",
              "      <td>4.20</td>\n",
              "    </tr>\n",
              "    <tr>\n",
              "      <th>3297</th>\n",
              "      <td>Tom Clancy's The Division</td>\n",
              "      <td>PS4</td>\n",
              "      <td>2016.0</td>\n",
              "      <td>Shooter</td>\n",
              "      <td>Ubisoft</td>\n",
              "      <td>1.28</td>\n",
              "      <td>1.61</td>\n",
              "      <td>0.15</td>\n",
              "      <td>0.57</td>\n",
              "      <td>3.61</td>\n",
              "    </tr>\n",
              "    <tr>\n",
              "      <th>16439</th>\n",
              "      <td>Far Cry: Primal</td>\n",
              "      <td>PS4</td>\n",
              "      <td>2016.0</td>\n",
              "      <td>Action</td>\n",
              "      <td>Ubisoft</td>\n",
              "      <td>0.59</td>\n",
              "      <td>1.16</td>\n",
              "      <td>0.06</td>\n",
              "      <td>0.33</td>\n",
              "      <td>2.14</td>\n",
              "    </tr>\n",
              "    <tr>\n",
              "      <th>11763</th>\n",
              "      <td>Tom Clancy's The Division</td>\n",
              "      <td>XOne</td>\n",
              "      <td>2016.0</td>\n",
              "      <td>Shooter</td>\n",
              "      <td>Ubisoft</td>\n",
              "      <td>1.20</td>\n",
              "      <td>0.62</td>\n",
              "      <td>0.00</td>\n",
              "      <td>0.18</td>\n",
              "      <td>2.00</td>\n",
              "    </tr>\n",
              "    <tr>\n",
              "      <th>2870</th>\n",
              "      <td>Overwatch</td>\n",
              "      <td>PS4</td>\n",
              "      <td>2016.0</td>\n",
              "      <td>Shooter</td>\n",
              "      <td>Activision</td>\n",
              "      <td>0.64</td>\n",
              "      <td>0.68</td>\n",
              "      <td>0.14</td>\n",
              "      <td>0.26</td>\n",
              "      <td>1.72</td>\n",
              "    </tr>\n",
              "    <tr>\n",
              "      <th>8557</th>\n",
              "      <td>No Man's Sky</td>\n",
              "      <td>PS4</td>\n",
              "      <td>2016.0</td>\n",
              "      <td>Action</td>\n",
              "      <td>Hello Games</td>\n",
              "      <td>0.58</td>\n",
              "      <td>0.74</td>\n",
              "      <td>0.02</td>\n",
              "      <td>0.26</td>\n",
              "      <td>1.60</td>\n",
              "    </tr>\n",
              "    <tr>\n",
              "      <th>13041</th>\n",
              "      <td>Dark Souls III</td>\n",
              "      <td>PS4</td>\n",
              "      <td>2016.0</td>\n",
              "      <td>Role-Playing</td>\n",
              "      <td>Namco Bandai Games</td>\n",
              "      <td>0.58</td>\n",
              "      <td>0.44</td>\n",
              "      <td>0.33</td>\n",
              "      <td>0.21</td>\n",
              "      <td>1.56</td>\n",
              "    </tr>\n",
              "    <tr>\n",
              "      <th>16337</th>\n",
              "      <td>FIFA 17</td>\n",
              "      <td>XOne</td>\n",
              "      <td>2016.0</td>\n",
              "      <td>Sports</td>\n",
              "      <td>Electronic Arts</td>\n",
              "      <td>0.17</td>\n",
              "      <td>1.26</td>\n",
              "      <td>0.00</td>\n",
              "      <td>0.10</td>\n",
              "      <td>1.53</td>\n",
              "    </tr>\n",
              "    <tr>\n",
              "      <th>6897</th>\n",
              "      <td>Doom (2016)</td>\n",
              "      <td>PS4</td>\n",
              "      <td>2016.0</td>\n",
              "      <td>Shooter</td>\n",
              "      <td>Bethesda Softworks</td>\n",
              "      <td>0.49</td>\n",
              "      <td>0.66</td>\n",
              "      <td>0.02</td>\n",
              "      <td>0.22</td>\n",
              "      <td>1.39</td>\n",
              "    </tr>\n",
              "    <tr>\n",
              "      <th>8824</th>\n",
              "      <td>Yokai Watch 3</td>\n",
              "      <td>3DS</td>\n",
              "      <td>2016.0</td>\n",
              "      <td>Action</td>\n",
              "      <td>Level 5</td>\n",
              "      <td>0.00</td>\n",
              "      <td>0.00</td>\n",
              "      <td>1.27</td>\n",
              "      <td>0.00</td>\n",
              "      <td>1.27</td>\n",
              "    </tr>\n",
              "    <tr>\n",
              "      <th>16062</th>\n",
              "      <td>Madden NFL 17</td>\n",
              "      <td>PS4</td>\n",
              "      <td>2016.0</td>\n",
              "      <td>Sports</td>\n",
              "      <td>Electronic Arts</td>\n",
              "      <td>0.92</td>\n",
              "      <td>0.08</td>\n",
              "      <td>0.00</td>\n",
              "      <td>0.23</td>\n",
              "      <td>1.23</td>\n",
              "    </tr>\n",
              "    <tr>\n",
              "      <th>15804</th>\n",
              "      <td>NBA 2K17</td>\n",
              "      <td>PS4</td>\n",
              "      <td>2016.0</td>\n",
              "      <td>Sports</td>\n",
              "      <td>Take-Two Interactive</td>\n",
              "      <td>0.83</td>\n",
              "      <td>0.14</td>\n",
              "      <td>0.00</td>\n",
              "      <td>0.22</td>\n",
              "      <td>1.19</td>\n",
              "    </tr>\n",
              "    <tr>\n",
              "      <th>2469</th>\n",
              "      <td>Ratchet &amp; Clank (2016)</td>\n",
              "      <td>PS4</td>\n",
              "      <td>2016.0</td>\n",
              "      <td>Platform</td>\n",
              "      <td>Sony Computer Entertainment</td>\n",
              "      <td>0.32</td>\n",
              "      <td>0.64</td>\n",
              "      <td>0.04</td>\n",
              "      <td>0.18</td>\n",
              "      <td>1.18</td>\n",
              "    </tr>\n",
              "    <tr>\n",
              "      <th>4495</th>\n",
              "      <td>Naruto Shippuden: Ultimate Ninja Storm 4</td>\n",
              "      <td>PS4</td>\n",
              "      <td>2016.0</td>\n",
              "      <td>Fighting</td>\n",
              "      <td>Namco Bandai Games</td>\n",
              "      <td>0.39</td>\n",
              "      <td>0.41</td>\n",
              "      <td>0.10</td>\n",
              "      <td>0.16</td>\n",
              "      <td>1.06</td>\n",
              "    </tr>\n",
              "    <tr>\n",
              "      <th>732</th>\n",
              "      <td>The Legend of Zelda: Twilight Princess HD</td>\n",
              "      <td>WiiU</td>\n",
              "      <td>2016.0</td>\n",
              "      <td>Action</td>\n",
              "      <td>Nintendo</td>\n",
              "      <td>0.48</td>\n",
              "      <td>0.30</td>\n",
              "      <td>0.08</td>\n",
              "      <td>0.08</td>\n",
              "      <td>0.94</td>\n",
              "    </tr>\n",
              "    <tr>\n",
              "      <th>8666</th>\n",
              "      <td>Pokken Tournament</td>\n",
              "      <td>WiiU</td>\n",
              "      <td>2016.0</td>\n",
              "      <td>Fighting</td>\n",
              "      <td>Namco Bandai Games</td>\n",
              "      <td>0.47</td>\n",
              "      <td>0.22</td>\n",
              "      <td>0.16</td>\n",
              "      <td>0.07</td>\n",
              "      <td>0.92</td>\n",
              "    </tr>\n",
              "    <tr>\n",
              "      <th>5659</th>\n",
              "      <td>EA Sports UFC 2</td>\n",
              "      <td>PS4</td>\n",
              "      <td>2016.0</td>\n",
              "      <td>Sports</td>\n",
              "      <td>Electronic Arts</td>\n",
              "      <td>0.28</td>\n",
              "      <td>0.47</td>\n",
              "      <td>0.00</td>\n",
              "      <td>0.14</td>\n",
              "      <td>0.89</td>\n",
              "    </tr>\n",
              "    <tr>\n",
              "      <th>6540</th>\n",
              "      <td>Far Cry: Primal</td>\n",
              "      <td>XOne</td>\n",
              "      <td>2016.0</td>\n",
              "      <td>Action</td>\n",
              "      <td>Ubisoft</td>\n",
              "      <td>0.46</td>\n",
              "      <td>0.32</td>\n",
              "      <td>0.00</td>\n",
              "      <td>0.07</td>\n",
              "      <td>0.85</td>\n",
              "    </tr>\n",
              "    <tr>\n",
              "      <th>4290</th>\n",
              "      <td>Overwatch</td>\n",
              "      <td>XOne</td>\n",
              "      <td>2016.0</td>\n",
              "      <td>Shooter</td>\n",
              "      <td>Activision</td>\n",
              "      <td>0.52</td>\n",
              "      <td>0.25</td>\n",
              "      <td>0.00</td>\n",
              "      <td>0.08</td>\n",
              "      <td>0.85</td>\n",
              "    </tr>\n",
              "    <tr>\n",
              "      <th>1795</th>\n",
              "      <td>MLB 16: The Show</td>\n",
              "      <td>PS4</td>\n",
              "      <td>2016.0</td>\n",
              "      <td>Action</td>\n",
              "      <td>Sony Computer Entertainment</td>\n",
              "      <td>0.68</td>\n",
              "      <td>0.00</td>\n",
              "      <td>0.00</td>\n",
              "      <td>0.16</td>\n",
              "      <td>0.84</td>\n",
              "    </tr>\n",
              "    <tr>\n",
              "      <th>1471</th>\n",
              "      <td>Kirby: Planet Robobot</td>\n",
              "      <td>3DS</td>\n",
              "      <td>2016.0</td>\n",
              "      <td>Action</td>\n",
              "      <td>Nintendo</td>\n",
              "      <td>0.26</td>\n",
              "      <td>0.10</td>\n",
              "      <td>0.44</td>\n",
              "      <td>0.04</td>\n",
              "      <td>0.84</td>\n",
              "    </tr>\n",
              "    <tr>\n",
              "      <th>7005</th>\n",
              "      <td>Madden NFL 17</td>\n",
              "      <td>XOne</td>\n",
              "      <td>2016.0</td>\n",
              "      <td>Sports</td>\n",
              "      <td>Electronic Arts</td>\n",
              "      <td>0.72</td>\n",
              "      <td>0.02</td>\n",
              "      <td>0.00</td>\n",
              "      <td>0.09</td>\n",
              "      <td>0.83</td>\n",
              "    </tr>\n",
              "    <tr>\n",
              "      <th>5913</th>\n",
              "      <td>Street Fighter V</td>\n",
              "      <td>PS4</td>\n",
              "      <td>2016.0</td>\n",
              "      <td>Fighting</td>\n",
              "      <td>Capcom</td>\n",
              "      <td>0.35</td>\n",
              "      <td>0.26</td>\n",
              "      <td>0.08</td>\n",
              "      <td>0.13</td>\n",
              "      <td>0.82</td>\n",
              "    </tr>\n",
              "    <tr>\n",
              "      <th>6008</th>\n",
              "      <td>Doom (2016)</td>\n",
              "      <td>XOne</td>\n",
              "      <td>2016.0</td>\n",
              "      <td>Shooter</td>\n",
              "      <td>Bethesda Softworks</td>\n",
              "      <td>0.39</td>\n",
              "      <td>0.23</td>\n",
              "      <td>0.00</td>\n",
              "      <td>0.06</td>\n",
              "      <td>0.68</td>\n",
              "    </tr>\n",
              "    <tr>\n",
              "      <th>4163</th>\n",
              "      <td>NBA 2K17</td>\n",
              "      <td>XOne</td>\n",
              "      <td>2016.0</td>\n",
              "      <td>Sports</td>\n",
              "      <td>Take-Two Interactive</td>\n",
              "      <td>0.54</td>\n",
              "      <td>0.04</td>\n",
              "      <td>0.00</td>\n",
              "      <td>0.07</td>\n",
              "      <td>0.65</td>\n",
              "    </tr>\n",
              "    <tr>\n",
              "      <th>2259</th>\n",
              "      <td>LEGO Marvel's Avengers</td>\n",
              "      <td>PS4</td>\n",
              "      <td>2016.0</td>\n",
              "      <td>Action</td>\n",
              "      <td>Warner Bros. Interactive Entertainment</td>\n",
              "      <td>0.25</td>\n",
              "      <td>0.29</td>\n",
              "      <td>0.00</td>\n",
              "      <td>0.10</td>\n",
              "      <td>0.64</td>\n",
              "    </tr>\n",
              "    <tr>\n",
              "      <th>3502</th>\n",
              "      <td>Dragon Quest Monsters Joker 3</td>\n",
              "      <td>3DS</td>\n",
              "      <td>2016.0</td>\n",
              "      <td>Role-Playing</td>\n",
              "      <td>Square Enix</td>\n",
              "      <td>0.00</td>\n",
              "      <td>0.00</td>\n",
              "      <td>0.63</td>\n",
              "      <td>0.00</td>\n",
              "      <td>0.63</td>\n",
              "    </tr>\n",
              "    <tr>\n",
              "      <th>9083</th>\n",
              "      <td>Yokai Sangokushi</td>\n",
              "      <td>3DS</td>\n",
              "      <td>2016.0</td>\n",
              "      <td>Action</td>\n",
              "      <td>Level 5</td>\n",
              "      <td>0.00</td>\n",
              "      <td>0.00</td>\n",
              "      <td>0.55</td>\n",
              "      <td>0.00</td>\n",
              "      <td>0.55</td>\n",
              "    </tr>\n",
              "    <tr>\n",
              "      <th>13849</th>\n",
              "      <td>Lego Star Wars: The Force Awakens</td>\n",
              "      <td>PS4</td>\n",
              "      <td>2016.0</td>\n",
              "      <td>Action</td>\n",
              "      <td>Warner Bros. Interactive Entertainment</td>\n",
              "      <td>0.14</td>\n",
              "      <td>0.32</td>\n",
              "      <td>0.00</td>\n",
              "      <td>0.08</td>\n",
              "      <td>0.54</td>\n",
              "    </tr>\n",
              "  </tbody>\n",
              "</table>\n",
              "</div>"
            ],
            "text/plain": [
              "                                            Name  ... Total_Sales\n",
              "15481                                    FIFA 17  ...        4.78\n",
              "4010                  Uncharted 4: A Thief's End  ...        4.20\n",
              "3297                   Tom Clancy's The Division  ...        3.61\n",
              "16439                            Far Cry: Primal  ...        2.14\n",
              "11763                  Tom Clancy's The Division  ...        2.00\n",
              "2870                                   Overwatch  ...        1.72\n",
              "8557                                No Man's Sky  ...        1.60\n",
              "13041                             Dark Souls III  ...        1.56\n",
              "16337                                    FIFA 17  ...        1.53\n",
              "6897                                 Doom (2016)  ...        1.39\n",
              "8824                               Yokai Watch 3  ...        1.27\n",
              "16062                              Madden NFL 17  ...        1.23\n",
              "15804                                   NBA 2K17  ...        1.19\n",
              "2469                      Ratchet & Clank (2016)  ...        1.18\n",
              "4495    Naruto Shippuden: Ultimate Ninja Storm 4  ...        1.06\n",
              "732    The Legend of Zelda: Twilight Princess HD  ...        0.94\n",
              "8666                           Pokken Tournament  ...        0.92\n",
              "5659                             EA Sports UFC 2  ...        0.89\n",
              "6540                             Far Cry: Primal  ...        0.85\n",
              "4290                                   Overwatch  ...        0.85\n",
              "1795                            MLB 16: The Show  ...        0.84\n",
              "1471                       Kirby: Planet Robobot  ...        0.84\n",
              "7005                               Madden NFL 17  ...        0.83\n",
              "5913                            Street Fighter V  ...        0.82\n",
              "6008                                 Doom (2016)  ...        0.68\n",
              "4163                                    NBA 2K17  ...        0.65\n",
              "2259                      LEGO Marvel's Avengers  ...        0.64\n",
              "3502               Dragon Quest Monsters Joker 3  ...        0.63\n",
              "9083                            Yokai Sangokushi  ...        0.55\n",
              "13849          Lego Star Wars: The Force Awakens  ...        0.54\n",
              "\n",
              "[30 rows x 10 columns]"
            ]
          },
          "metadata": {},
          "execution_count": 30
        }
      ]
    },
    {
      "cell_type": "markdown",
      "source": [
        "### 최근 5년간 top 30의 장르별/플랫폼별 총 출고량 시각화: line plot"
      ],
      "metadata": {
        "id": "QcI43c5YhRE8"
      }
    },
    {
      "cell_type": "code",
      "source": [
        "# 최근 5년간 장르별 총 출고량 합계\n",
        "max_df5.groupby('Genre').Total_Sales.sum()"
      ],
      "metadata": {
        "colab": {
          "base_uri": "https://localhost:8080/"
        },
        "id": "i5bt5UPaD_rN",
        "outputId": "788adb59-3b81-4293-bdb7-52e48837d169"
      },
      "execution_count": 31,
      "outputs": [
        {
          "output_type": "execute_result",
          "data": {
            "text/plain": [
              "Genre\n",
              "Action          10.21\n",
              "Fighting         2.80\n",
              "Platform         1.18\n",
              "Role-Playing     2.19\n",
              "Shooter         14.45\n",
              "Sports          11.10\n",
              "Name: Total_Sales, dtype: float64"
            ]
          },
          "metadata": {},
          "execution_count": 31
        }
      ]
    },
    {
      "cell_type": "code",
      "source": [
        "#그래프\n",
        "plt.figure(figsize=(6,4))\n",
        "plt.plot(max_df5.groupby('Genre').Total_Sales.sum(), marker='o', color='g')\n",
        "plt.title('2016-2020 top 20', fontsize=13) \n",
        "plt.xlabel('Genre', fontsize=13)\n",
        "plt.ylabel('total sales', fontsize=13)\n",
        "plt.show()"
      ],
      "metadata": {
        "colab": {
          "base_uri": "https://localhost:8080/",
          "height": 297
        },
        "id": "QsMvHA41oHXc",
        "outputId": "7575e931-5db4-470e-e2b4-0ba390144e90"
      },
      "execution_count": 32,
      "outputs": [
        {
          "output_type": "display_data",
          "data": {
            "image/png": "[encoded data removed]",
            "text/plain": [
              "<Figure size 432x288 with 1 Axes>"
            ]
          },
          "metadata": {
            "needs_background": "light"
          }
        }
      ]
    },
    {
      "cell_type": "code",
      "source": [
        "# 최근 5년간 플랫폼별 총 출고량 합계\n",
        "max_df5.groupby('Platform').Total_Sales.sum()"
      ],
      "metadata": {
        "colab": {
          "base_uri": "https://localhost:8080/"
        },
        "id": "JQrOXqARo3jV",
        "outputId": "963f5c1e-abd8-4431-a25f-17737e1e1562"
      },
      "execution_count": 33,
      "outputs": [
        {
          "output_type": "execute_result",
          "data": {
            "text/plain": [
              "Platform\n",
              "3DS      3.29\n",
              "PS4     29.39\n",
              "WiiU     1.86\n",
              "XOne     7.39\n",
              "Name: Total_Sales, dtype: float64"
            ]
          },
          "metadata": {},
          "execution_count": 33
        }
      ]
    },
    {
      "cell_type": "code",
      "source": [
        "#그래프\n",
        "plt.figure(figsize=(4,4))\n",
        "plt.plot(max_df5.groupby('Platform').Total_Sales.sum(), marker='o', color='b')\n",
        "plt.title('2016-2020 top 20', fontsize=13) \n",
        "plt.xlabel('Platform', fontsize=13)\n",
        "plt.ylabel('total sales', fontsize=13)\n",
        "plt.show()"
      ],
      "metadata": {
        "colab": {
          "base_uri": "https://localhost:8080/",
          "height": 297
        },
        "id": "VnmHIV3loxCH",
        "outputId": "69330084-ae82-4723-9c57-e2706e25d0ae"
      },
      "execution_count": 48,
      "outputs": [
        {
          "output_type": "display_data",
          "data": {
            "image/png": "[encoded data removed]",
            "text/plain": [
              "<Figure size 288x288 with 1 Axes>"
            ]
          },
          "metadata": {
            "needs_background": "light"
          }
        }
      ]
    },
    {
      "cell_type": "markdown",
      "source": [
        "### 최근 5년간 top 30의 지역별 출고량의 연관성 확인: chi square test"
      ],
      "metadata": {
        "id": "cVDkFRmQh2tz"
      }
    },
    {
      "cell_type": "code",
      "source": [
        "# chi square test 2-> H0: 각 지역의 출고량이 서로 연관이 없다 about 최근 5년간 출고량 top 30개 게임\n",
        "chisq_resne = stats.chi2_contingency(pd.crosstab(index=max_df5['NA_Sales'], columns=max_df5['EU_Sales']))\n",
        "chisq_resne # pvalue  0.04489022387001295 -> 귀무가설 기각"
      ],
      "metadata": {
        "colab": {
          "base_uri": "https://localhost:8080/"
        },
        "id": "spl2atTGh879",
        "outputId": "5020a1fa-0e1c-42e7-91be-a63dbddb5fc5"
      },
      "execution_count": 51,
      "outputs": [
        {
          "output_type": "execute_result",
          "data": {
            "text/plain": [
              "(660.0,\n",
              " 0.04489022387001295,\n",
              " 600,\n",
              " array([[0.4       , 0.1       , 0.1       , 0.1       , 0.1       ,\n",
              "         0.1       , 0.1       , 0.1       , 0.1       , 0.1       ,\n",
              "         0.1       , 0.1       , 0.2       , 0.1       , 0.1       ,\n",
              "         0.1       , 0.1       , 0.1       , 0.1       , 0.1       ,\n",
              "         0.1       , 0.1       , 0.1       , 0.1       , 0.1       ,\n",
              "         0.1       ],\n",
              "        [0.13333333, 0.03333333, 0.03333333, 0.03333333, 0.03333333,\n",
              "         0.03333333, 0.03333333, 0.03333333, 0.03333333, 0.03333333,\n",
              "         0.03333333, 0.03333333, 0.06666667, 0.03333333, 0.03333333,\n",
              "         0.03333333, 0.03333333, 0.03333333, 0.03333333, 0.03333333,\n",
              "         0.03333333, 0.03333333, 0.03333333, 0.03333333, 0.03333333,\n",
              "         0.03333333],\n",
              "        [0.13333333, 0.03333333, 0.03333333, 0.03333333, 0.03333333,\n",
              "         0.03333333, 0.03333333, 0.03333333, 0.03333333, 0.03333333,\n",
              "         0.03333333, 0.03333333, 0.06666667, 0.03333333, 0.03333333,\n",
              "         0.03333333, 0.03333333, 0.03333333, 0.03333333, 0.03333333,\n",
              "         0.03333333, 0.03333333, 0.03333333, 0.03333333, 0.03333333,\n",
              "         0.03333333],\n",
              "        [0.13333333, 0.03333333, 0.03333333, 0.03333333, 0.03333333,\n",
              "         0.03333333, 0.03333333, 0.03333333, 0.03333333, 0.03333333,\n",
              "         0.03333333, 0.03333333, 0.06666667, 0.03333333, 0.03333333,\n",
              "         0.03333333, 0.03333333, 0.03333333, 0.03333333, 0.03333333,\n",
              "         0.03333333, 0.03333333, 0.03333333, 0.03333333, 0.03333333,\n",
              "         0.03333333],\n",
              "        [0.13333333, 0.03333333, 0.03333333, 0.03333333, 0.03333333,\n",
              "         0.03333333, 0.03333333, 0.03333333, 0.03333333, 0.03333333,\n",
              "         0.03333333, 0.03333333, 0.06666667, 0.03333333, 0.03333333,\n",
              "         0.03333333, 0.03333333, 0.03333333, 0.03333333, 0.03333333,\n",
              "         0.03333333, 0.03333333, 0.03333333, 0.03333333, 0.03333333,\n",
              "         0.03333333],\n",
              "        [0.26666667, 0.06666667, 0.06666667, 0.06666667, 0.06666667,\n",
              "         0.06666667, 0.06666667, 0.06666667, 0.06666667, 0.06666667,\n",
              "         0.06666667, 0.06666667, 0.13333333, 0.06666667, 0.06666667,\n",
              "         0.06666667, 0.06666667, 0.06666667, 0.06666667, 0.06666667,\n",
              "         0.06666667, 0.06666667, 0.06666667, 0.06666667, 0.06666667,\n",
              "         0.06666667],\n",
              "        [0.13333333, 0.03333333, 0.03333333, 0.03333333, 0.03333333,\n",
              "         0.03333333, 0.03333333, 0.03333333, 0.03333333, 0.03333333,\n",
              "         0.03333333, 0.03333333, 0.06666667, 0.03333333, 0.03333333,\n",
              "         0.03333333, 0.03333333, 0.03333333, 0.03333333, 0.03333333,\n",
              "         0.03333333, 0.03333333, 0.03333333, 0.03333333, 0.03333333,\n",
              "         0.03333333],\n",
              "        [0.13333333, 0.03333333, 0.03333333, 0.03333333, 0.03333333,\n",
              "         0.03333333, 0.03333333, 0.03333333, 0.03333333, 0.03333333,\n",
              "         0.03333333, 0.03333333, 0.06666667, 0.03333333, 0.03333333,\n",
              "         0.03333333, 0.03333333, 0.03333333, 0.03333333, 0.03333333,\n",
              "         0.03333333, 0.03333333, 0.03333333, 0.03333333, 0.03333333,\n",
              "         0.03333333],\n",
              "        [0.26666667, 0.06666667, 0.06666667, 0.06666667, 0.06666667,\n",
              "         0.06666667, 0.06666667, 0.06666667, 0.06666667, 0.06666667,\n",
              "         0.06666667, 0.06666667, 0.13333333, 0.06666667, 0.06666667,\n",
              "         0.06666667, 0.06666667, 0.06666667, 0.06666667, 0.06666667,\n",
              "         0.06666667, 0.06666667, 0.06666667, 0.06666667, 0.06666667,\n",
              "         0.06666667],\n",
              "        [0.13333333, 0.03333333, 0.03333333, 0.03333333, 0.03333333,\n",
              "         0.03333333, 0.03333333, 0.03333333, 0.03333333, 0.03333333,\n",
              "         0.03333333, 0.03333333, 0.06666667, 0.03333333, 0.03333333,\n",
              "         0.03333333, 0.03333333, 0.03333333, 0.03333333, 0.03333333,\n",
              "         0.03333333, 0.03333333, 0.03333333, 0.03333333, 0.03333333,\n",
              "         0.03333333],\n",
              "        [0.13333333, 0.03333333, 0.03333333, 0.03333333, 0.03333333,\n",
              "         0.03333333, 0.03333333, 0.03333333, 0.03333333, 0.03333333,\n",
              "         0.03333333, 0.03333333, 0.06666667, 0.03333333, 0.03333333,\n",
              "         0.03333333, 0.03333333, 0.03333333, 0.03333333, 0.03333333,\n",
              "         0.03333333, 0.03333333, 0.03333333, 0.03333333, 0.03333333,\n",
              "         0.03333333],\n",
              "        [0.13333333, 0.03333333, 0.03333333, 0.03333333, 0.03333333,\n",
              "         0.03333333, 0.03333333, 0.03333333, 0.03333333, 0.03333333,\n",
              "         0.03333333, 0.03333333, 0.06666667, 0.03333333, 0.03333333,\n",
              "         0.03333333, 0.03333333, 0.03333333, 0.03333333, 0.03333333,\n",
              "         0.03333333, 0.03333333, 0.03333333, 0.03333333, 0.03333333,\n",
              "         0.03333333],\n",
              "        [0.13333333, 0.03333333, 0.03333333, 0.03333333, 0.03333333,\n",
              "         0.03333333, 0.03333333, 0.03333333, 0.03333333, 0.03333333,\n",
              "         0.03333333, 0.03333333, 0.06666667, 0.03333333, 0.03333333,\n",
              "         0.03333333, 0.03333333, 0.03333333, 0.03333333, 0.03333333,\n",
              "         0.03333333, 0.03333333, 0.03333333, 0.03333333, 0.03333333,\n",
              "         0.03333333],\n",
              "        [0.13333333, 0.03333333, 0.03333333, 0.03333333, 0.03333333,\n",
              "         0.03333333, 0.03333333, 0.03333333, 0.03333333, 0.03333333,\n",
              "         0.03333333, 0.03333333, 0.06666667, 0.03333333, 0.03333333,\n",
              "         0.03333333, 0.03333333, 0.03333333, 0.03333333, 0.03333333,\n",
              "         0.03333333, 0.03333333, 0.03333333, 0.03333333, 0.03333333,\n",
              "         0.03333333],\n",
              "        [0.13333333, 0.03333333, 0.03333333, 0.03333333, 0.03333333,\n",
              "         0.03333333, 0.03333333, 0.03333333, 0.03333333, 0.03333333,\n",
              "         0.03333333, 0.03333333, 0.06666667, 0.03333333, 0.03333333,\n",
              "         0.03333333, 0.03333333, 0.03333333, 0.03333333, 0.03333333,\n",
              "         0.03333333, 0.03333333, 0.03333333, 0.03333333, 0.03333333,\n",
              "         0.03333333],\n",
              "        [0.26666667, 0.06666667, 0.06666667, 0.06666667, 0.06666667,\n",
              "         0.06666667, 0.06666667, 0.06666667, 0.06666667, 0.06666667,\n",
              "         0.06666667, 0.06666667, 0.13333333, 0.06666667, 0.06666667,\n",
              "         0.06666667, 0.06666667, 0.06666667, 0.06666667, 0.06666667,\n",
              "         0.06666667, 0.06666667, 0.06666667, 0.06666667, 0.06666667,\n",
              "         0.06666667],\n",
              "        [0.13333333, 0.03333333, 0.03333333, 0.03333333, 0.03333333,\n",
              "         0.03333333, 0.03333333, 0.03333333, 0.03333333, 0.03333333,\n",
              "         0.03333333, 0.03333333, 0.06666667, 0.03333333, 0.03333333,\n",
              "         0.03333333, 0.03333333, 0.03333333, 0.03333333, 0.03333333,\n",
              "         0.03333333, 0.03333333, 0.03333333, 0.03333333, 0.03333333,\n",
              "         0.03333333],\n",
              "        [0.13333333, 0.03333333, 0.03333333, 0.03333333, 0.03333333,\n",
              "         0.03333333, 0.03333333, 0.03333333, 0.03333333, 0.03333333,\n",
              "         0.03333333, 0.03333333, 0.06666667, 0.03333333, 0.03333333,\n",
              "         0.03333333, 0.03333333, 0.03333333, 0.03333333, 0.03333333,\n",
              "         0.03333333, 0.03333333, 0.03333333, 0.03333333, 0.03333333,\n",
              "         0.03333333],\n",
              "        [0.13333333, 0.03333333, 0.03333333, 0.03333333, 0.03333333,\n",
              "         0.03333333, 0.03333333, 0.03333333, 0.03333333, 0.03333333,\n",
              "         0.03333333, 0.03333333, 0.06666667, 0.03333333, 0.03333333,\n",
              "         0.03333333, 0.03333333, 0.03333333, 0.03333333, 0.03333333,\n",
              "         0.03333333, 0.03333333, 0.03333333, 0.03333333, 0.03333333,\n",
              "         0.03333333],\n",
              "        [0.13333333, 0.03333333, 0.03333333, 0.03333333, 0.03333333,\n",
              "         0.03333333, 0.03333333, 0.03333333, 0.03333333, 0.03333333,\n",
              "         0.03333333, 0.03333333, 0.06666667, 0.03333333, 0.03333333,\n",
              "         0.03333333, 0.03333333, 0.03333333, 0.03333333, 0.03333333,\n",
              "         0.03333333, 0.03333333, 0.03333333, 0.03333333, 0.03333333,\n",
              "         0.03333333],\n",
              "        [0.13333333, 0.03333333, 0.03333333, 0.03333333, 0.03333333,\n",
              "         0.03333333, 0.03333333, 0.03333333, 0.03333333, 0.03333333,\n",
              "         0.03333333, 0.03333333, 0.06666667, 0.03333333, 0.03333333,\n",
              "         0.03333333, 0.03333333, 0.03333333, 0.03333333, 0.03333333,\n",
              "         0.03333333, 0.03333333, 0.03333333, 0.03333333, 0.03333333,\n",
              "         0.03333333],\n",
              "        [0.13333333, 0.03333333, 0.03333333, 0.03333333, 0.03333333,\n",
              "         0.03333333, 0.03333333, 0.03333333, 0.03333333, 0.03333333,\n",
              "         0.03333333, 0.03333333, 0.06666667, 0.03333333, 0.03333333,\n",
              "         0.03333333, 0.03333333, 0.03333333, 0.03333333, 0.03333333,\n",
              "         0.03333333, 0.03333333, 0.03333333, 0.03333333, 0.03333333,\n",
              "         0.03333333],\n",
              "        [0.13333333, 0.03333333, 0.03333333, 0.03333333, 0.03333333,\n",
              "         0.03333333, 0.03333333, 0.03333333, 0.03333333, 0.03333333,\n",
              "         0.03333333, 0.03333333, 0.06666667, 0.03333333, 0.03333333,\n",
              "         0.03333333, 0.03333333, 0.03333333, 0.03333333, 0.03333333,\n",
              "         0.03333333, 0.03333333, 0.03333333, 0.03333333, 0.03333333,\n",
              "         0.03333333],\n",
              "        [0.13333333, 0.03333333, 0.03333333, 0.03333333, 0.03333333,\n",
              "         0.03333333, 0.03333333, 0.03333333, 0.03333333, 0.03333333,\n",
              "         0.03333333, 0.03333333, 0.06666667, 0.03333333, 0.03333333,\n",
              "         0.03333333, 0.03333333, 0.03333333, 0.03333333, 0.03333333,\n",
              "         0.03333333, 0.03333333, 0.03333333, 0.03333333, 0.03333333,\n",
              "         0.03333333],\n",
              "        [0.13333333, 0.03333333, 0.03333333, 0.03333333, 0.03333333,\n",
              "         0.03333333, 0.03333333, 0.03333333, 0.03333333, 0.03333333,\n",
              "         0.03333333, 0.03333333, 0.06666667, 0.03333333, 0.03333333,\n",
              "         0.03333333, 0.03333333, 0.03333333, 0.03333333, 0.03333333,\n",
              "         0.03333333, 0.03333333, 0.03333333, 0.03333333, 0.03333333,\n",
              "         0.03333333]]))"
            ]
          },
          "metadata": {},
          "execution_count": 51
        }
      ]
    },
    {
      "cell_type": "code",
      "source": [
        "# chi square test 2-> H0: 각 지역의 출고량이 서로 연관이 없다 about 최근 5년간 출고량 top 30개 게임\n",
        "chisq_resnj = stats.chi2_contingency(pd.crosstab(index=max_df5['NA_Sales'], columns=max_df5['JP_Sales']))\n",
        "chisq_resnj # pvalue  0.8145837419568668 -> 귀무가설 채택"
      ],
      "metadata": {
        "colab": {
          "base_uri": "https://localhost:8080/"
        },
        "id": "lz77E1RGiDra",
        "outputId": "5336ccfe-12ef-4e82-a1ee-e3d72b3aabae"
      },
      "execution_count": 52,
      "outputs": [
        {
          "output_type": "execute_result",
          "data": {
            "text/plain": [
              "(312.69230769230774,\n",
              " 0.8145837419568668,\n",
              " 336,\n",
              " array([[1.3       , 0.2       , 0.1       , 0.2       , 0.2       ,\n",
              "         0.1       , 0.1       , 0.1       , 0.1       , 0.1       ,\n",
              "         0.1       , 0.1       , 0.1       , 0.1       , 0.1       ],\n",
              "        [0.43333333, 0.06666667, 0.03333333, 0.06666667, 0.06666667,\n",
              "         0.03333333, 0.03333333, 0.03333333, 0.03333333, 0.03333333,\n",
              "         0.03333333, 0.03333333, 0.03333333, 0.03333333, 0.03333333],\n",
              "        [0.43333333, 0.06666667, 0.03333333, 0.06666667, 0.06666667,\n",
              "         0.03333333, 0.03333333, 0.03333333, 0.03333333, 0.03333333,\n",
              "         0.03333333, 0.03333333, 0.03333333, 0.03333333, 0.03333333],\n",
              "        [0.43333333, 0.06666667, 0.03333333, 0.06666667, 0.06666667,\n",
              "         0.03333333, 0.03333333, 0.03333333, 0.03333333, 0.03333333,\n",
              "         0.03333333, 0.03333333, 0.03333333, 0.03333333, 0.03333333],\n",
              "        [0.43333333, 0.06666667, 0.03333333, 0.06666667, 0.06666667,\n",
              "         0.03333333, 0.03333333, 0.03333333, 0.03333333, 0.03333333,\n",
              "         0.03333333, 0.03333333, 0.03333333, 0.03333333, 0.03333333],\n",
              "        [0.86666667, 0.13333333, 0.06666667, 0.13333333, 0.13333333,\n",
              "         0.06666667, 0.06666667, 0.06666667, 0.06666667, 0.06666667,\n",
              "         0.06666667, 0.06666667, 0.06666667, 0.06666667, 0.06666667],\n",
              "        [0.43333333, 0.06666667, 0.03333333, 0.06666667, 0.06666667,\n",
              "         0.03333333, 0.03333333, 0.03333333, 0.03333333, 0.03333333,\n",
              "         0.03333333, 0.03333333, 0.03333333, 0.03333333, 0.03333333],\n",
              "        [0.43333333, 0.06666667, 0.03333333, 0.06666667, 0.06666667,\n",
              "         0.03333333, 0.03333333, 0.03333333, 0.03333333, 0.03333333,\n",
              "         0.03333333, 0.03333333, 0.03333333, 0.03333333, 0.03333333],\n",
              "        [0.86666667, 0.13333333, 0.06666667, 0.13333333, 0.13333333,\n",
              "         0.06666667, 0.06666667, 0.06666667, 0.06666667, 0.06666667,\n",
              "         0.06666667, 0.06666667, 0.06666667, 0.06666667, 0.06666667],\n",
              "        [0.43333333, 0.06666667, 0.03333333, 0.06666667, 0.06666667,\n",
              "         0.03333333, 0.03333333, 0.03333333, 0.03333333, 0.03333333,\n",
              "         0.03333333, 0.03333333, 0.03333333, 0.03333333, 0.03333333],\n",
              "        [0.43333333, 0.06666667, 0.03333333, 0.06666667, 0.06666667,\n",
              "         0.03333333, 0.03333333, 0.03333333, 0.03333333, 0.03333333,\n",
              "         0.03333333, 0.03333333, 0.03333333, 0.03333333, 0.03333333],\n",
              "        [0.43333333, 0.06666667, 0.03333333, 0.06666667, 0.06666667,\n",
              "         0.03333333, 0.03333333, 0.03333333, 0.03333333, 0.03333333,\n",
              "         0.03333333, 0.03333333, 0.03333333, 0.03333333, 0.03333333],\n",
              "        [0.43333333, 0.06666667, 0.03333333, 0.06666667, 0.06666667,\n",
              "         0.03333333, 0.03333333, 0.03333333, 0.03333333, 0.03333333,\n",
              "         0.03333333, 0.03333333, 0.03333333, 0.03333333, 0.03333333],\n",
              "        [0.43333333, 0.06666667, 0.03333333, 0.06666667, 0.06666667,\n",
              "         0.03333333, 0.03333333, 0.03333333, 0.03333333, 0.03333333,\n",
              "         0.03333333, 0.03333333, 0.03333333, 0.03333333, 0.03333333],\n",
              "        [0.43333333, 0.06666667, 0.03333333, 0.06666667, 0.06666667,\n",
              "         0.03333333, 0.03333333, 0.03333333, 0.03333333, 0.03333333,\n",
              "         0.03333333, 0.03333333, 0.03333333, 0.03333333, 0.03333333],\n",
              "        [0.86666667, 0.13333333, 0.06666667, 0.13333333, 0.13333333,\n",
              "         0.06666667, 0.06666667, 0.06666667, 0.06666667, 0.06666667,\n",
              "         0.06666667, 0.06666667, 0.06666667, 0.06666667, 0.06666667],\n",
              "        [0.43333333, 0.06666667, 0.03333333, 0.06666667, 0.06666667,\n",
              "         0.03333333, 0.03333333, 0.03333333, 0.03333333, 0.03333333,\n",
              "         0.03333333, 0.03333333, 0.03333333, 0.03333333, 0.03333333],\n",
              "        [0.43333333, 0.06666667, 0.03333333, 0.06666667, 0.06666667,\n",
              "         0.03333333, 0.03333333, 0.03333333, 0.03333333, 0.03333333,\n",
              "         0.03333333, 0.03333333, 0.03333333, 0.03333333, 0.03333333],\n",
              "        [0.43333333, 0.06666667, 0.03333333, 0.06666667, 0.06666667,\n",
              "         0.03333333, 0.03333333, 0.03333333, 0.03333333, 0.03333333,\n",
              "         0.03333333, 0.03333333, 0.03333333, 0.03333333, 0.03333333],\n",
              "        [0.43333333, 0.06666667, 0.03333333, 0.06666667, 0.06666667,\n",
              "         0.03333333, 0.03333333, 0.03333333, 0.03333333, 0.03333333,\n",
              "         0.03333333, 0.03333333, 0.03333333, 0.03333333, 0.03333333],\n",
              "        [0.43333333, 0.06666667, 0.03333333, 0.06666667, 0.06666667,\n",
              "         0.03333333, 0.03333333, 0.03333333, 0.03333333, 0.03333333,\n",
              "         0.03333333, 0.03333333, 0.03333333, 0.03333333, 0.03333333],\n",
              "        [0.43333333, 0.06666667, 0.03333333, 0.06666667, 0.06666667,\n",
              "         0.03333333, 0.03333333, 0.03333333, 0.03333333, 0.03333333,\n",
              "         0.03333333, 0.03333333, 0.03333333, 0.03333333, 0.03333333],\n",
              "        [0.43333333, 0.06666667, 0.03333333, 0.06666667, 0.06666667,\n",
              "         0.03333333, 0.03333333, 0.03333333, 0.03333333, 0.03333333,\n",
              "         0.03333333, 0.03333333, 0.03333333, 0.03333333, 0.03333333],\n",
              "        [0.43333333, 0.06666667, 0.03333333, 0.06666667, 0.06666667,\n",
              "         0.03333333, 0.03333333, 0.03333333, 0.03333333, 0.03333333,\n",
              "         0.03333333, 0.03333333, 0.03333333, 0.03333333, 0.03333333],\n",
              "        [0.43333333, 0.06666667, 0.03333333, 0.06666667, 0.06666667,\n",
              "         0.03333333, 0.03333333, 0.03333333, 0.03333333, 0.03333333,\n",
              "         0.03333333, 0.03333333, 0.03333333, 0.03333333, 0.03333333]]))"
            ]
          },
          "metadata": {},
          "execution_count": 52
        }
      ]
    },
    {
      "cell_type": "code",
      "source": [
        "# chi square test 2-> H0: 각 지역의 출고량이 서로 연관이 없다 about 최근 5년간 출고량 top 30개 게임\n",
        "chisq_resej = stats.chi2_contingency(pd.crosstab(index=max_df5['EU_Sales'], columns=max_df5['JP_Sales']))\n",
        "chisq_resej # pvalue  0.4783682326062064 -> 귀무가설 채택"
      ],
      "metadata": {
        "colab": {
          "base_uri": "https://localhost:8080/"
        },
        "id": "ipajyUbCiDok",
        "outputId": "7f5d03f4-88bb-40ac-dafc-addf68711697"
      },
      "execution_count": 53,
      "outputs": [
        {
          "output_type": "execute_result",
          "data": {
            "text/plain": [
              "(350.7692307692308,\n",
              " 0.4783682326062064,\n",
              " 350,\n",
              " array([[1.73333333, 0.26666667, 0.13333333, 0.26666667, 0.26666667,\n",
              "         0.13333333, 0.13333333, 0.13333333, 0.13333333, 0.13333333,\n",
              "         0.13333333, 0.13333333, 0.13333333, 0.13333333, 0.13333333],\n",
              "        [0.43333333, 0.06666667, 0.03333333, 0.06666667, 0.06666667,\n",
              "         0.03333333, 0.03333333, 0.03333333, 0.03333333, 0.03333333,\n",
              "         0.03333333, 0.03333333, 0.03333333, 0.03333333, 0.03333333],\n",
              "        [0.43333333, 0.06666667, 0.03333333, 0.06666667, 0.06666667,\n",
              "         0.03333333, 0.03333333, 0.03333333, 0.03333333, 0.03333333,\n",
              "         0.03333333, 0.03333333, 0.03333333, 0.03333333, 0.03333333],\n",
              "        [0.43333333, 0.06666667, 0.03333333, 0.06666667, 0.06666667,\n",
              "         0.03333333, 0.03333333, 0.03333333, 0.03333333, 0.03333333,\n",
              "         0.03333333, 0.03333333, 0.03333333, 0.03333333, 0.03333333],\n",
              "        [0.43333333, 0.06666667, 0.03333333, 0.06666667, 0.06666667,\n",
              "         0.03333333, 0.03333333, 0.03333333, 0.03333333, 0.03333333,\n",
              "         0.03333333, 0.03333333, 0.03333333, 0.03333333, 0.03333333],\n",
              "        [0.43333333, 0.06666667, 0.03333333, 0.06666667, 0.06666667,\n",
              "         0.03333333, 0.03333333, 0.03333333, 0.03333333, 0.03333333,\n",
              "         0.03333333, 0.03333333, 0.03333333, 0.03333333, 0.03333333],\n",
              "        [0.43333333, 0.06666667, 0.03333333, 0.06666667, 0.06666667,\n",
              "         0.03333333, 0.03333333, 0.03333333, 0.03333333, 0.03333333,\n",
              "         0.03333333, 0.03333333, 0.03333333, 0.03333333, 0.03333333],\n",
              "        [0.43333333, 0.06666667, 0.03333333, 0.06666667, 0.06666667,\n",
              "         0.03333333, 0.03333333, 0.03333333, 0.03333333, 0.03333333,\n",
              "         0.03333333, 0.03333333, 0.03333333, 0.03333333, 0.03333333],\n",
              "        [0.43333333, 0.06666667, 0.03333333, 0.06666667, 0.06666667,\n",
              "         0.03333333, 0.03333333, 0.03333333, 0.03333333, 0.03333333,\n",
              "         0.03333333, 0.03333333, 0.03333333, 0.03333333, 0.03333333],\n",
              "        [0.43333333, 0.06666667, 0.03333333, 0.06666667, 0.06666667,\n",
              "         0.03333333, 0.03333333, 0.03333333, 0.03333333, 0.03333333,\n",
              "         0.03333333, 0.03333333, 0.03333333, 0.03333333, 0.03333333],\n",
              "        [0.43333333, 0.06666667, 0.03333333, 0.06666667, 0.06666667,\n",
              "         0.03333333, 0.03333333, 0.03333333, 0.03333333, 0.03333333,\n",
              "         0.03333333, 0.03333333, 0.03333333, 0.03333333, 0.03333333],\n",
              "        [0.43333333, 0.06666667, 0.03333333, 0.06666667, 0.06666667,\n",
              "         0.03333333, 0.03333333, 0.03333333, 0.03333333, 0.03333333,\n",
              "         0.03333333, 0.03333333, 0.03333333, 0.03333333, 0.03333333],\n",
              "        [0.86666667, 0.13333333, 0.06666667, 0.13333333, 0.13333333,\n",
              "         0.06666667, 0.06666667, 0.06666667, 0.06666667, 0.06666667,\n",
              "         0.06666667, 0.06666667, 0.06666667, 0.06666667, 0.06666667],\n",
              "        [0.43333333, 0.06666667, 0.03333333, 0.06666667, 0.06666667,\n",
              "         0.03333333, 0.03333333, 0.03333333, 0.03333333, 0.03333333,\n",
              "         0.03333333, 0.03333333, 0.03333333, 0.03333333, 0.03333333],\n",
              "        [0.43333333, 0.06666667, 0.03333333, 0.06666667, 0.06666667,\n",
              "         0.03333333, 0.03333333, 0.03333333, 0.03333333, 0.03333333,\n",
              "         0.03333333, 0.03333333, 0.03333333, 0.03333333, 0.03333333],\n",
              "        [0.43333333, 0.06666667, 0.03333333, 0.06666667, 0.06666667,\n",
              "         0.03333333, 0.03333333, 0.03333333, 0.03333333, 0.03333333,\n",
              "         0.03333333, 0.03333333, 0.03333333, 0.03333333, 0.03333333],\n",
              "        [0.43333333, 0.06666667, 0.03333333, 0.06666667, 0.06666667,\n",
              "         0.03333333, 0.03333333, 0.03333333, 0.03333333, 0.03333333,\n",
              "         0.03333333, 0.03333333, 0.03333333, 0.03333333, 0.03333333],\n",
              "        [0.43333333, 0.06666667, 0.03333333, 0.06666667, 0.06666667,\n",
              "         0.03333333, 0.03333333, 0.03333333, 0.03333333, 0.03333333,\n",
              "         0.03333333, 0.03333333, 0.03333333, 0.03333333, 0.03333333],\n",
              "        [0.43333333, 0.06666667, 0.03333333, 0.06666667, 0.06666667,\n",
              "         0.03333333, 0.03333333, 0.03333333, 0.03333333, 0.03333333,\n",
              "         0.03333333, 0.03333333, 0.03333333, 0.03333333, 0.03333333],\n",
              "        [0.43333333, 0.06666667, 0.03333333, 0.06666667, 0.06666667,\n",
              "         0.03333333, 0.03333333, 0.03333333, 0.03333333, 0.03333333,\n",
              "         0.03333333, 0.03333333, 0.03333333, 0.03333333, 0.03333333],\n",
              "        [0.43333333, 0.06666667, 0.03333333, 0.06666667, 0.06666667,\n",
              "         0.03333333, 0.03333333, 0.03333333, 0.03333333, 0.03333333,\n",
              "         0.03333333, 0.03333333, 0.03333333, 0.03333333, 0.03333333],\n",
              "        [0.43333333, 0.06666667, 0.03333333, 0.06666667, 0.06666667,\n",
              "         0.03333333, 0.03333333, 0.03333333, 0.03333333, 0.03333333,\n",
              "         0.03333333, 0.03333333, 0.03333333, 0.03333333, 0.03333333],\n",
              "        [0.43333333, 0.06666667, 0.03333333, 0.06666667, 0.06666667,\n",
              "         0.03333333, 0.03333333, 0.03333333, 0.03333333, 0.03333333,\n",
              "         0.03333333, 0.03333333, 0.03333333, 0.03333333, 0.03333333],\n",
              "        [0.43333333, 0.06666667, 0.03333333, 0.06666667, 0.06666667,\n",
              "         0.03333333, 0.03333333, 0.03333333, 0.03333333, 0.03333333,\n",
              "         0.03333333, 0.03333333, 0.03333333, 0.03333333, 0.03333333],\n",
              "        [0.43333333, 0.06666667, 0.03333333, 0.06666667, 0.06666667,\n",
              "         0.03333333, 0.03333333, 0.03333333, 0.03333333, 0.03333333,\n",
              "         0.03333333, 0.03333333, 0.03333333, 0.03333333, 0.03333333],\n",
              "        [0.43333333, 0.06666667, 0.03333333, 0.06666667, 0.06666667,\n",
              "         0.03333333, 0.03333333, 0.03333333, 0.03333333, 0.03333333,\n",
              "         0.03333333, 0.03333333, 0.03333333, 0.03333333, 0.03333333]]))"
            ]
          },
          "metadata": {},
          "execution_count": 53
        }
      ]
    },
    {
      "cell_type": "code",
      "source": [
        "# chi square test 2-> H0: 각 지역의 출고량이 서로 연관이 없다 about 최근 5년간 출고량 top 30개 게임\n",
        "chisq_resno = stats.chi2_contingency(pd.crosstab(index=max_df5['Other_Sales'], columns=max_df5['NA_Sales']))\n",
        "chisq_resno # pvalue  0.13181599206896213 -> 귀무가설 채택"
      ],
      "metadata": {
        "colab": {
          "base_uri": "https://localhost:8080/"
        },
        "id": "Dc19hnyUh80R",
        "outputId": "4c446f93-f9cd-4a99-b3d6-5b211e6adb10"
      },
      "execution_count": 50,
      "outputs": [
        {
          "output_type": "execute_result",
          "data": {
            "text/plain": [
              "(465.0,\n",
              " 0.13181599206896213,\n",
              " 432,\n",
              " array([[0.3       , 0.1       , 0.1       , 0.1       , 0.1       ,\n",
              "         0.2       , 0.1       , 0.1       , 0.2       , 0.1       ,\n",
              "         0.1       , 0.1       , 0.1       , 0.1       , 0.1       ,\n",
              "         0.2       , 0.1       , 0.1       , 0.1       , 0.1       ,\n",
              "         0.1       , 0.1       , 0.1       , 0.1       , 0.1       ],\n",
              "        [0.1       , 0.03333333, 0.03333333, 0.03333333, 0.03333333,\n",
              "         0.06666667, 0.03333333, 0.03333333, 0.06666667, 0.03333333,\n",
              "         0.03333333, 0.03333333, 0.03333333, 0.03333333, 0.03333333,\n",
              "         0.06666667, 0.03333333, 0.03333333, 0.03333333, 0.03333333,\n",
              "         0.03333333, 0.03333333, 0.03333333, 0.03333333, 0.03333333],\n",
              "        [0.1       , 0.03333333, 0.03333333, 0.03333333, 0.03333333,\n",
              "         0.06666667, 0.03333333, 0.03333333, 0.06666667, 0.03333333,\n",
              "         0.03333333, 0.03333333, 0.03333333, 0.03333333, 0.03333333,\n",
              "         0.06666667, 0.03333333, 0.03333333, 0.03333333, 0.03333333,\n",
              "         0.03333333, 0.03333333, 0.03333333, 0.03333333, 0.03333333],\n",
              "        [0.3       , 0.1       , 0.1       , 0.1       , 0.1       ,\n",
              "         0.2       , 0.1       , 0.1       , 0.2       , 0.1       ,\n",
              "         0.1       , 0.1       , 0.1       , 0.1       , 0.1       ,\n",
              "         0.2       , 0.1       , 0.1       , 0.1       , 0.1       ,\n",
              "         0.1       , 0.1       , 0.1       , 0.1       , 0.1       ],\n",
              "        [0.3       , 0.1       , 0.1       , 0.1       , 0.1       ,\n",
              "         0.2       , 0.1       , 0.1       , 0.2       , 0.1       ,\n",
              "         0.1       , 0.1       , 0.1       , 0.1       , 0.1       ,\n",
              "         0.2       , 0.1       , 0.1       , 0.1       , 0.1       ,\n",
              "         0.1       , 0.1       , 0.1       , 0.1       , 0.1       ],\n",
              "        [0.1       , 0.03333333, 0.03333333, 0.03333333, 0.03333333,\n",
              "         0.06666667, 0.03333333, 0.03333333, 0.06666667, 0.03333333,\n",
              "         0.03333333, 0.03333333, 0.03333333, 0.03333333, 0.03333333,\n",
              "         0.06666667, 0.03333333, 0.03333333, 0.03333333, 0.03333333,\n",
              "         0.03333333, 0.03333333, 0.03333333, 0.03333333, 0.03333333],\n",
              "        [0.2       , 0.06666667, 0.06666667, 0.06666667, 0.06666667,\n",
              "         0.13333333, 0.06666667, 0.06666667, 0.13333333, 0.06666667,\n",
              "         0.06666667, 0.06666667, 0.06666667, 0.06666667, 0.06666667,\n",
              "         0.13333333, 0.06666667, 0.06666667, 0.06666667, 0.06666667,\n",
              "         0.06666667, 0.06666667, 0.06666667, 0.06666667, 0.06666667],\n",
              "        [0.1       , 0.03333333, 0.03333333, 0.03333333, 0.03333333,\n",
              "         0.06666667, 0.03333333, 0.03333333, 0.06666667, 0.03333333,\n",
              "         0.03333333, 0.03333333, 0.03333333, 0.03333333, 0.03333333,\n",
              "         0.06666667, 0.03333333, 0.03333333, 0.03333333, 0.03333333,\n",
              "         0.03333333, 0.03333333, 0.03333333, 0.03333333, 0.03333333],\n",
              "        [0.1       , 0.03333333, 0.03333333, 0.03333333, 0.03333333,\n",
              "         0.06666667, 0.03333333, 0.03333333, 0.06666667, 0.03333333,\n",
              "         0.03333333, 0.03333333, 0.03333333, 0.03333333, 0.03333333,\n",
              "         0.06666667, 0.03333333, 0.03333333, 0.03333333, 0.03333333,\n",
              "         0.03333333, 0.03333333, 0.03333333, 0.03333333, 0.03333333],\n",
              "        [0.2       , 0.06666667, 0.06666667, 0.06666667, 0.06666667,\n",
              "         0.13333333, 0.06666667, 0.06666667, 0.13333333, 0.06666667,\n",
              "         0.06666667, 0.06666667, 0.06666667, 0.06666667, 0.06666667,\n",
              "         0.13333333, 0.06666667, 0.06666667, 0.06666667, 0.06666667,\n",
              "         0.06666667, 0.06666667, 0.06666667, 0.06666667, 0.06666667],\n",
              "        [0.2       , 0.06666667, 0.06666667, 0.06666667, 0.06666667,\n",
              "         0.13333333, 0.06666667, 0.06666667, 0.13333333, 0.06666667,\n",
              "         0.06666667, 0.06666667, 0.06666667, 0.06666667, 0.06666667,\n",
              "         0.13333333, 0.06666667, 0.06666667, 0.06666667, 0.06666667,\n",
              "         0.06666667, 0.06666667, 0.06666667, 0.06666667, 0.06666667],\n",
              "        [0.1       , 0.03333333, 0.03333333, 0.03333333, 0.03333333,\n",
              "         0.06666667, 0.03333333, 0.03333333, 0.06666667, 0.03333333,\n",
              "         0.03333333, 0.03333333, 0.03333333, 0.03333333, 0.03333333,\n",
              "         0.06666667, 0.03333333, 0.03333333, 0.03333333, 0.03333333,\n",
              "         0.03333333, 0.03333333, 0.03333333, 0.03333333, 0.03333333],\n",
              "        [0.2       , 0.06666667, 0.06666667, 0.06666667, 0.06666667,\n",
              "         0.13333333, 0.06666667, 0.06666667, 0.13333333, 0.06666667,\n",
              "         0.06666667, 0.06666667, 0.06666667, 0.06666667, 0.06666667,\n",
              "         0.13333333, 0.06666667, 0.06666667, 0.06666667, 0.06666667,\n",
              "         0.06666667, 0.06666667, 0.06666667, 0.06666667, 0.06666667],\n",
              "        [0.1       , 0.03333333, 0.03333333, 0.03333333, 0.03333333,\n",
              "         0.06666667, 0.03333333, 0.03333333, 0.06666667, 0.03333333,\n",
              "         0.03333333, 0.03333333, 0.03333333, 0.03333333, 0.03333333,\n",
              "         0.06666667, 0.03333333, 0.03333333, 0.03333333, 0.03333333,\n",
              "         0.03333333, 0.03333333, 0.03333333, 0.03333333, 0.03333333],\n",
              "        [0.2       , 0.06666667, 0.06666667, 0.06666667, 0.06666667,\n",
              "         0.13333333, 0.06666667, 0.06666667, 0.13333333, 0.06666667,\n",
              "         0.06666667, 0.06666667, 0.06666667, 0.06666667, 0.06666667,\n",
              "         0.13333333, 0.06666667, 0.06666667, 0.06666667, 0.06666667,\n",
              "         0.06666667, 0.06666667, 0.06666667, 0.06666667, 0.06666667],\n",
              "        [0.1       , 0.03333333, 0.03333333, 0.03333333, 0.03333333,\n",
              "         0.06666667, 0.03333333, 0.03333333, 0.06666667, 0.03333333,\n",
              "         0.03333333, 0.03333333, 0.03333333, 0.03333333, 0.03333333,\n",
              "         0.06666667, 0.03333333, 0.03333333, 0.03333333, 0.03333333,\n",
              "         0.03333333, 0.03333333, 0.03333333, 0.03333333, 0.03333333],\n",
              "        [0.1       , 0.03333333, 0.03333333, 0.03333333, 0.03333333,\n",
              "         0.06666667, 0.03333333, 0.03333333, 0.06666667, 0.03333333,\n",
              "         0.03333333, 0.03333333, 0.03333333, 0.03333333, 0.03333333,\n",
              "         0.06666667, 0.03333333, 0.03333333, 0.03333333, 0.03333333,\n",
              "         0.03333333, 0.03333333, 0.03333333, 0.03333333, 0.03333333],\n",
              "        [0.1       , 0.03333333, 0.03333333, 0.03333333, 0.03333333,\n",
              "         0.06666667, 0.03333333, 0.03333333, 0.06666667, 0.03333333,\n",
              "         0.03333333, 0.03333333, 0.03333333, 0.03333333, 0.03333333,\n",
              "         0.06666667, 0.03333333, 0.03333333, 0.03333333, 0.03333333,\n",
              "         0.03333333, 0.03333333, 0.03333333, 0.03333333, 0.03333333],\n",
              "        [0.1       , 0.03333333, 0.03333333, 0.03333333, 0.03333333,\n",
              "         0.06666667, 0.03333333, 0.03333333, 0.06666667, 0.03333333,\n",
              "         0.03333333, 0.03333333, 0.03333333, 0.03333333, 0.03333333,\n",
              "         0.06666667, 0.03333333, 0.03333333, 0.03333333, 0.03333333,\n",
              "         0.03333333, 0.03333333, 0.03333333, 0.03333333, 0.03333333]]))"
            ]
          },
          "metadata": {},
          "execution_count": 50
        }
      ]
    },
    {
      "cell_type": "code",
      "source": [
        "# chi square test 2-> H0: 각 지역의 출고량이 서로 연관이 없다 about 최근 5년간 출고량 top 30개 게임\n",
        "chisq_reseo = stats.chi2_contingency(pd.crosstab(index=max_df5['Other_Sales'], columns=max_df5['EU_Sales']))\n",
        "chisq_reseo # pvalue 0.02397891656533136 -> 연관 o"
      ],
      "metadata": {
        "colab": {
          "base_uri": "https://localhost:8080/"
        },
        "id": "4LWCGEiZynbm",
        "outputId": "bd24267b-4a66-4ccd-d34f-974e4c616bce"
      },
      "execution_count": 38,
      "outputs": [
        {
          "output_type": "execute_result",
          "data": {
            "text/plain": [
              "(511.25,\n",
              " 0.02397891656533136,\n",
              " 450,\n",
              " array([[0.4       , 0.1       , 0.1       , 0.1       , 0.1       ,\n",
              "         0.1       , 0.1       , 0.1       , 0.1       , 0.1       ,\n",
              "         0.1       , 0.1       , 0.2       , 0.1       , 0.1       ,\n",
              "         0.1       , 0.1       , 0.1       , 0.1       , 0.1       ,\n",
              "         0.1       , 0.1       , 0.1       , 0.1       , 0.1       ,\n",
              "         0.1       ],\n",
              "        [0.13333333, 0.03333333, 0.03333333, 0.03333333, 0.03333333,\n",
              "         0.03333333, 0.03333333, 0.03333333, 0.03333333, 0.03333333,\n",
              "         0.03333333, 0.03333333, 0.06666667, 0.03333333, 0.03333333,\n",
              "         0.03333333, 0.03333333, 0.03333333, 0.03333333, 0.03333333,\n",
              "         0.03333333, 0.03333333, 0.03333333, 0.03333333, 0.03333333,\n",
              "         0.03333333],\n",
              "        [0.13333333, 0.03333333, 0.03333333, 0.03333333, 0.03333333,\n",
              "         0.03333333, 0.03333333, 0.03333333, 0.03333333, 0.03333333,\n",
              "         0.03333333, 0.03333333, 0.06666667, 0.03333333, 0.03333333,\n",
              "         0.03333333, 0.03333333, 0.03333333, 0.03333333, 0.03333333,\n",
              "         0.03333333, 0.03333333, 0.03333333, 0.03333333, 0.03333333,\n",
              "         0.03333333],\n",
              "        [0.4       , 0.1       , 0.1       , 0.1       , 0.1       ,\n",
              "         0.1       , 0.1       , 0.1       , 0.1       , 0.1       ,\n",
              "         0.1       , 0.1       , 0.2       , 0.1       , 0.1       ,\n",
              "         0.1       , 0.1       , 0.1       , 0.1       , 0.1       ,\n",
              "         0.1       , 0.1       , 0.1       , 0.1       , 0.1       ,\n",
              "         0.1       ],\n",
              "        [0.4       , 0.1       , 0.1       , 0.1       , 0.1       ,\n",
              "         0.1       , 0.1       , 0.1       , 0.1       , 0.1       ,\n",
              "         0.1       , 0.1       , 0.2       , 0.1       , 0.1       ,\n",
              "         0.1       , 0.1       , 0.1       , 0.1       , 0.1       ,\n",
              "         0.1       , 0.1       , 0.1       , 0.1       , 0.1       ,\n",
              "         0.1       ],\n",
              "        [0.13333333, 0.03333333, 0.03333333, 0.03333333, 0.03333333,\n",
              "         0.03333333, 0.03333333, 0.03333333, 0.03333333, 0.03333333,\n",
              "         0.03333333, 0.03333333, 0.06666667, 0.03333333, 0.03333333,\n",
              "         0.03333333, 0.03333333, 0.03333333, 0.03333333, 0.03333333,\n",
              "         0.03333333, 0.03333333, 0.03333333, 0.03333333, 0.03333333,\n",
              "         0.03333333],\n",
              "        [0.26666667, 0.06666667, 0.06666667, 0.06666667, 0.06666667,\n",
              "         0.06666667, 0.06666667, 0.06666667, 0.06666667, 0.06666667,\n",
              "         0.06666667, 0.06666667, 0.13333333, 0.06666667, 0.06666667,\n",
              "         0.06666667, 0.06666667, 0.06666667, 0.06666667, 0.06666667,\n",
              "         0.06666667, 0.06666667, 0.06666667, 0.06666667, 0.06666667,\n",
              "         0.06666667],\n",
              "        [0.13333333, 0.03333333, 0.03333333, 0.03333333, 0.03333333,\n",
              "         0.03333333, 0.03333333, 0.03333333, 0.03333333, 0.03333333,\n",
              "         0.03333333, 0.03333333, 0.06666667, 0.03333333, 0.03333333,\n",
              "         0.03333333, 0.03333333, 0.03333333, 0.03333333, 0.03333333,\n",
              "         0.03333333, 0.03333333, 0.03333333, 0.03333333, 0.03333333,\n",
              "         0.03333333],\n",
              "        [0.13333333, 0.03333333, 0.03333333, 0.03333333, 0.03333333,\n",
              "         0.03333333, 0.03333333, 0.03333333, 0.03333333, 0.03333333,\n",
              "         0.03333333, 0.03333333, 0.06666667, 0.03333333, 0.03333333,\n",
              "         0.03333333, 0.03333333, 0.03333333, 0.03333333, 0.03333333,\n",
              "         0.03333333, 0.03333333, 0.03333333, 0.03333333, 0.03333333,\n",
              "         0.03333333],\n",
              "        [0.26666667, 0.06666667, 0.06666667, 0.06666667, 0.06666667,\n",
              "         0.06666667, 0.06666667, 0.06666667, 0.06666667, 0.06666667,\n",
              "         0.06666667, 0.06666667, 0.13333333, 0.06666667, 0.06666667,\n",
              "         0.06666667, 0.06666667, 0.06666667, 0.06666667, 0.06666667,\n",
              "         0.06666667, 0.06666667, 0.06666667, 0.06666667, 0.06666667,\n",
              "         0.06666667],\n",
              "        [0.26666667, 0.06666667, 0.06666667, 0.06666667, 0.06666667,\n",
              "         0.06666667, 0.06666667, 0.06666667, 0.06666667, 0.06666667,\n",
              "         0.06666667, 0.06666667, 0.13333333, 0.06666667, 0.06666667,\n",
              "         0.06666667, 0.06666667, 0.06666667, 0.06666667, 0.06666667,\n",
              "         0.06666667, 0.06666667, 0.06666667, 0.06666667, 0.06666667,\n",
              "         0.06666667],\n",
              "        [0.13333333, 0.03333333, 0.03333333, 0.03333333, 0.03333333,\n",
              "         0.03333333, 0.03333333, 0.03333333, 0.03333333, 0.03333333,\n",
              "         0.03333333, 0.03333333, 0.06666667, 0.03333333, 0.03333333,\n",
              "         0.03333333, 0.03333333, 0.03333333, 0.03333333, 0.03333333,\n",
              "         0.03333333, 0.03333333, 0.03333333, 0.03333333, 0.03333333,\n",
              "         0.03333333],\n",
              "        [0.26666667, 0.06666667, 0.06666667, 0.06666667, 0.06666667,\n",
              "         0.06666667, 0.06666667, 0.06666667, 0.06666667, 0.06666667,\n",
              "         0.06666667, 0.06666667, 0.13333333, 0.06666667, 0.06666667,\n",
              "         0.06666667, 0.06666667, 0.06666667, 0.06666667, 0.06666667,\n",
              "         0.06666667, 0.06666667, 0.06666667, 0.06666667, 0.06666667,\n",
              "         0.06666667],\n",
              "        [0.13333333, 0.03333333, 0.03333333, 0.03333333, 0.03333333,\n",
              "         0.03333333, 0.03333333, 0.03333333, 0.03333333, 0.03333333,\n",
              "         0.03333333, 0.03333333, 0.06666667, 0.03333333, 0.03333333,\n",
              "         0.03333333, 0.03333333, 0.03333333, 0.03333333, 0.03333333,\n",
              "         0.03333333, 0.03333333, 0.03333333, 0.03333333, 0.03333333,\n",
              "         0.03333333],\n",
              "        [0.26666667, 0.06666667, 0.06666667, 0.06666667, 0.06666667,\n",
              "         0.06666667, 0.06666667, 0.06666667, 0.06666667, 0.06666667,\n",
              "         0.06666667, 0.06666667, 0.13333333, 0.06666667, 0.06666667,\n",
              "         0.06666667, 0.06666667, 0.06666667, 0.06666667, 0.06666667,\n",
              "         0.06666667, 0.06666667, 0.06666667, 0.06666667, 0.06666667,\n",
              "         0.06666667],\n",
              "        [0.13333333, 0.03333333, 0.03333333, 0.03333333, 0.03333333,\n",
              "         0.03333333, 0.03333333, 0.03333333, 0.03333333, 0.03333333,\n",
              "         0.03333333, 0.03333333, 0.06666667, 0.03333333, 0.03333333,\n",
              "         0.03333333, 0.03333333, 0.03333333, 0.03333333, 0.03333333,\n",
              "         0.03333333, 0.03333333, 0.03333333, 0.03333333, 0.03333333,\n",
              "         0.03333333],\n",
              "        [0.13333333, 0.03333333, 0.03333333, 0.03333333, 0.03333333,\n",
              "         0.03333333, 0.03333333, 0.03333333, 0.03333333, 0.03333333,\n",
              "         0.03333333, 0.03333333, 0.06666667, 0.03333333, 0.03333333,\n",
              "         0.03333333, 0.03333333, 0.03333333, 0.03333333, 0.03333333,\n",
              "         0.03333333, 0.03333333, 0.03333333, 0.03333333, 0.03333333,\n",
              "         0.03333333],\n",
              "        [0.13333333, 0.03333333, 0.03333333, 0.03333333, 0.03333333,\n",
              "         0.03333333, 0.03333333, 0.03333333, 0.03333333, 0.03333333,\n",
              "         0.03333333, 0.03333333, 0.06666667, 0.03333333, 0.03333333,\n",
              "         0.03333333, 0.03333333, 0.03333333, 0.03333333, 0.03333333,\n",
              "         0.03333333, 0.03333333, 0.03333333, 0.03333333, 0.03333333,\n",
              "         0.03333333],\n",
              "        [0.13333333, 0.03333333, 0.03333333, 0.03333333, 0.03333333,\n",
              "         0.03333333, 0.03333333, 0.03333333, 0.03333333, 0.03333333,\n",
              "         0.03333333, 0.03333333, 0.06666667, 0.03333333, 0.03333333,\n",
              "         0.03333333, 0.03333333, 0.03333333, 0.03333333, 0.03333333,\n",
              "         0.03333333, 0.03333333, 0.03333333, 0.03333333, 0.03333333,\n",
              "         0.03333333]]))"
            ]
          },
          "metadata": {},
          "execution_count": 38
        }
      ]
    },
    {
      "cell_type": "code",
      "source": [
        "# chi square test 2-> H0: 각 지역의 출고량이 서로 연관이 없다 about 최근 5년간 출고량 top 30개 게임\n",
        "chisq_resjo = stats.chi2_contingency(pd.crosstab(index=max_df5['Other_Sales'], columns=max_df5['JP_Sales']))\n",
        "chisq_resjo # pvalue  0.05150234265497902 -> 귀무가설 채택"
      ],
      "metadata": {
        "colab": {
          "base_uri": "https://localhost:8080/"
        },
        "id": "VheUjMcry1tU",
        "outputId": "b21ab8bc-69ac-4380-9b9d-0d69b1f78725"
      },
      "execution_count": 39,
      "outputs": [
        {
          "output_type": "execute_result",
          "data": {
            "text/plain": [
              "(263.46153846153845,\n",
              " 0.29715978957779754,\n",
              " 252,\n",
              " array([[1.3       , 0.2       , 0.1       , 0.2       , 0.2       ,\n",
              "         0.1       , 0.1       , 0.1       , 0.1       , 0.1       ,\n",
              "         0.1       , 0.1       , 0.1       , 0.1       , 0.1       ],\n",
              "        [0.43333333, 0.06666667, 0.03333333, 0.06666667, 0.06666667,\n",
              "         0.03333333, 0.03333333, 0.03333333, 0.03333333, 0.03333333,\n",
              "         0.03333333, 0.03333333, 0.03333333, 0.03333333, 0.03333333],\n",
              "        [0.43333333, 0.06666667, 0.03333333, 0.06666667, 0.06666667,\n",
              "         0.03333333, 0.03333333, 0.03333333, 0.03333333, 0.03333333,\n",
              "         0.03333333, 0.03333333, 0.03333333, 0.03333333, 0.03333333],\n",
              "        [1.3       , 0.2       , 0.1       , 0.2       , 0.2       ,\n",
              "         0.1       , 0.1       , 0.1       , 0.1       , 0.1       ,\n",
              "         0.1       , 0.1       , 0.1       , 0.1       , 0.1       ],\n",
              "        [1.3       , 0.2       , 0.1       , 0.2       , 0.2       ,\n",
              "         0.1       , 0.1       , 0.1       , 0.1       , 0.1       ,\n",
              "         0.1       , 0.1       , 0.1       , 0.1       , 0.1       ],\n",
              "        [0.43333333, 0.06666667, 0.03333333, 0.06666667, 0.06666667,\n",
              "         0.03333333, 0.03333333, 0.03333333, 0.03333333, 0.03333333,\n",
              "         0.03333333, 0.03333333, 0.03333333, 0.03333333, 0.03333333],\n",
              "        [0.86666667, 0.13333333, 0.06666667, 0.13333333, 0.13333333,\n",
              "         0.06666667, 0.06666667, 0.06666667, 0.06666667, 0.06666667,\n",
              "         0.06666667, 0.06666667, 0.06666667, 0.06666667, 0.06666667],\n",
              "        [0.43333333, 0.06666667, 0.03333333, 0.06666667, 0.06666667,\n",
              "         0.03333333, 0.03333333, 0.03333333, 0.03333333, 0.03333333,\n",
              "         0.03333333, 0.03333333, 0.03333333, 0.03333333, 0.03333333],\n",
              "        [0.43333333, 0.06666667, 0.03333333, 0.06666667, 0.06666667,\n",
              "         0.03333333, 0.03333333, 0.03333333, 0.03333333, 0.03333333,\n",
              "         0.03333333, 0.03333333, 0.03333333, 0.03333333, 0.03333333],\n",
              "        [0.86666667, 0.13333333, 0.06666667, 0.13333333, 0.13333333,\n",
              "         0.06666667, 0.06666667, 0.06666667, 0.06666667, 0.06666667,\n",
              "         0.06666667, 0.06666667, 0.06666667, 0.06666667, 0.06666667],\n",
              "        [0.86666667, 0.13333333, 0.06666667, 0.13333333, 0.13333333,\n",
              "         0.06666667, 0.06666667, 0.06666667, 0.06666667, 0.06666667,\n",
              "         0.06666667, 0.06666667, 0.06666667, 0.06666667, 0.06666667],\n",
              "        [0.43333333, 0.06666667, 0.03333333, 0.06666667, 0.06666667,\n",
              "         0.03333333, 0.03333333, 0.03333333, 0.03333333, 0.03333333,\n",
              "         0.03333333, 0.03333333, 0.03333333, 0.03333333, 0.03333333],\n",
              "        [0.86666667, 0.13333333, 0.06666667, 0.13333333, 0.13333333,\n",
              "         0.06666667, 0.06666667, 0.06666667, 0.06666667, 0.06666667,\n",
              "         0.06666667, 0.06666667, 0.06666667, 0.06666667, 0.06666667],\n",
              "        [0.43333333, 0.06666667, 0.03333333, 0.06666667, 0.06666667,\n",
              "         0.03333333, 0.03333333, 0.03333333, 0.03333333, 0.03333333,\n",
              "         0.03333333, 0.03333333, 0.03333333, 0.03333333, 0.03333333],\n",
              "        [0.86666667, 0.13333333, 0.06666667, 0.13333333, 0.13333333,\n",
              "         0.06666667, 0.06666667, 0.06666667, 0.06666667, 0.06666667,\n",
              "         0.06666667, 0.06666667, 0.06666667, 0.06666667, 0.06666667],\n",
              "        [0.43333333, 0.06666667, 0.03333333, 0.06666667, 0.06666667,\n",
              "         0.03333333, 0.03333333, 0.03333333, 0.03333333, 0.03333333,\n",
              "         0.03333333, 0.03333333, 0.03333333, 0.03333333, 0.03333333],\n",
              "        [0.43333333, 0.06666667, 0.03333333, 0.06666667, 0.06666667,\n",
              "         0.03333333, 0.03333333, 0.03333333, 0.03333333, 0.03333333,\n",
              "         0.03333333, 0.03333333, 0.03333333, 0.03333333, 0.03333333],\n",
              "        [0.43333333, 0.06666667, 0.03333333, 0.06666667, 0.06666667,\n",
              "         0.03333333, 0.03333333, 0.03333333, 0.03333333, 0.03333333,\n",
              "         0.03333333, 0.03333333, 0.03333333, 0.03333333, 0.03333333],\n",
              "        [0.43333333, 0.06666667, 0.03333333, 0.06666667, 0.06666667,\n",
              "         0.03333333, 0.03333333, 0.03333333, 0.03333333, 0.03333333,\n",
              "         0.03333333, 0.03333333, 0.03333333, 0.03333333, 0.03333333]]))"
            ]
          },
          "metadata": {},
          "execution_count": 39
        }
      ]
    },
    {
      "cell_type": "markdown",
      "source": [
        "### 최근 5년간 top 30의 북미/유럽/기타지역 장르별/플랫폼별 총 출고량"
      ],
      "metadata": {
        "id": "E8UVqAVsinzQ"
      }
    },
    {
      "cell_type": "code",
      "source": [
        "max_df5.groupby('Genre').sum()"
      ],
      "metadata": {
        "colab": {
          "base_uri": "https://localhost:8080/",
          "height": 268
        },
        "id": "1FQdGEOGrIvU",
        "outputId": "778ff499-cfc2-46ea-a716-628fcb4c3413"
      },
      "execution_count": null,
      "outputs": [
        {
          "output_type": "execute_result",
          "data": {
            "text/html": [
              "<div>\n",
              "<style scoped>\n",
              "    .dataframe tbody tr th:only-of-type {\n",
              "        vertical-align: middle;\n",
              "    }\n",
              "\n",
              "    .dataframe tbody tr th {\n",
              "        vertical-align: top;\n",
              "    }\n",
              "\n",
              "    .dataframe thead th {\n",
              "        text-align: right;\n",
              "    }\n",
              "</style>\n",
              "<table border=\"1\" class=\"dataframe\">\n",
              "  <thead>\n",
              "    <tr style=\"text-align: right;\">\n",
              "      <th></th>\n",
              "      <th>Year</th>\n",
              "      <th>NA_Sales</th>\n",
              "      <th>EU_Sales</th>\n",
              "      <th>JP_Sales</th>\n",
              "      <th>Other_Sales</th>\n",
              "      <th>Total_Sales</th>\n",
              "    </tr>\n",
              "    <tr>\n",
              "      <th>Genre</th>\n",
              "      <th></th>\n",
              "      <th></th>\n",
              "      <th></th>\n",
              "      <th></th>\n",
              "      <th></th>\n",
              "      <th></th>\n",
              "    </tr>\n",
              "  </thead>\n",
              "  <tbody>\n",
              "    <tr>\n",
              "      <th>Action</th>\n",
              "      <td>20160.0</td>\n",
              "      <td>3.44</td>\n",
              "      <td>3.23</td>\n",
              "      <td>2.42</td>\n",
              "      <td>1.12</td>\n",
              "      <td>10.21</td>\n",
              "    </tr>\n",
              "    <tr>\n",
              "      <th>Fighting</th>\n",
              "      <td>6048.0</td>\n",
              "      <td>1.21</td>\n",
              "      <td>0.89</td>\n",
              "      <td>0.34</td>\n",
              "      <td>0.36</td>\n",
              "      <td>2.80</td>\n",
              "    </tr>\n",
              "    <tr>\n",
              "      <th>Platform</th>\n",
              "      <td>2016.0</td>\n",
              "      <td>0.32</td>\n",
              "      <td>0.64</td>\n",
              "      <td>0.04</td>\n",
              "      <td>0.18</td>\n",
              "      <td>1.18</td>\n",
              "    </tr>\n",
              "    <tr>\n",
              "      <th>Role-Playing</th>\n",
              "      <td>4032.0</td>\n",
              "      <td>0.58</td>\n",
              "      <td>0.44</td>\n",
              "      <td>0.96</td>\n",
              "      <td>0.21</td>\n",
              "      <td>2.19</td>\n",
              "    </tr>\n",
              "    <tr>\n",
              "      <th>Shooter</th>\n",
              "      <td>14112.0</td>\n",
              "      <td>5.82</td>\n",
              "      <td>6.12</td>\n",
              "      <td>0.49</td>\n",
              "      <td>2.02</td>\n",
              "      <td>14.45</td>\n",
              "    </tr>\n",
              "    <tr>\n",
              "      <th>Sports</th>\n",
              "      <td>14112.0</td>\n",
              "      <td>3.74</td>\n",
              "      <td>5.76</td>\n",
              "      <td>0.06</td>\n",
              "      <td>1.54</td>\n",
              "      <td>11.10</td>\n",
              "    </tr>\n",
              "  </tbody>\n",
              "</table>\n",
              "</div>"
            ],
            "text/plain": [
              "                 Year  NA_Sales  EU_Sales  JP_Sales  Other_Sales  Total_Sales\n",
              "Genre                                                                        \n",
              "Action        20160.0      3.44      3.23      2.42         1.12        10.21\n",
              "Fighting       6048.0      1.21      0.89      0.34         0.36         2.80\n",
              "Platform       2016.0      0.32      0.64      0.04         0.18         1.18\n",
              "Role-Playing   4032.0      0.58      0.44      0.96         0.21         2.19\n",
              "Shooter       14112.0      5.82      6.12      0.49         2.02        14.45\n",
              "Sports        14112.0      3.74      5.76      0.06         1.54        11.10"
            ]
          },
          "metadata": {},
          "execution_count": 158
        }
      ]
    },
    {
      "cell_type": "code",
      "source": [
        "# 최근 5년간 유럽지역 장르별 총 출고량\n",
        "lb16= ['Action', 'Fighting', 'Platform', 'Role-Playing','Shooter','Sports']\n",
        "ind16 = np.arange(len(lb16))\n",
        "\n",
        "\n",
        "plt.figure(figsize=(5,4))\n",
        "plt.bar(ind16, max_df5.groupby('Genre').EU_Sales.sum(),width=0.2)\n",
        "plt.title('2016-2020 EU', fontsize=15)\n",
        "plt.xlabel('Genre', fontsize=12)\n",
        "plt.ylabel('Sales', fontsize=12)\n",
        "plt.xticks(ind16, lb16, fontsize=9)\n",
        "plt.show()"
      ],
      "metadata": {
        "colab": {
          "base_uri": "https://localhost:8080/",
          "height": 298
        },
        "id": "Rt1qsfFRXm-f",
        "outputId": "865437b7-ea0e-4962-fde8-33d642490b49"
      },
      "execution_count": 40,
      "outputs": [
        {
          "output_type": "display_data",
          "data": {
            "image/png": "[encoded data removed]",
            "text/plain": [
              "<Figure size 360x288 with 1 Axes>"
            ]
          },
          "metadata": {
            "needs_background": "light"
          }
        }
      ]
    },
    {
      "cell_type": "code",
      "source": [
        "max_df5.groupby('Genre').NA_Sales.sum()"
      ],
      "metadata": {
        "colab": {
          "base_uri": "https://localhost:8080/"
        },
        "id": "D3mKD_rls9y5",
        "outputId": "0db1bb3f-0038-4ecc-8a05-667861ad0e45"
      },
      "execution_count": 41,
      "outputs": [
        {
          "output_type": "execute_result",
          "data": {
            "text/plain": [
              "Genre\n",
              "Action          3.44\n",
              "Fighting        1.21\n",
              "Platform        0.32\n",
              "Role-Playing    0.58\n",
              "Shooter         5.82\n",
              "Sports          3.74\n",
              "Name: NA_Sales, dtype: float64"
            ]
          },
          "metadata": {},
          "execution_count": 41
        }
      ]
    },
    {
      "cell_type": "code",
      "source": [
        "# 최근 5년간 장르별 출고량\n",
        "plt.figure(figsize=(5,4))\n",
        "plt.bar(ind16, max_df5.groupby('Genre').NA_Sales.sum(),width=0.2)\n",
        "plt.title('2016-2020 NA', fontsize=15)\n",
        "plt.xlabel('Genre', fontsize=12)\n",
        "plt.ylabel('Total Sales', fontsize=12)\n",
        "plt.xticks(ind16, lb16, fontsize=9)\n",
        "plt.show()"
      ],
      "metadata": {
        "colab": {
          "base_uri": "https://localhost:8080/",
          "height": 298
        },
        "outputId": "e153d046-b004-4f89-bc1b-94e12177985f",
        "id": "WZqcCBzPseNO"
      },
      "execution_count": 42,
      "outputs": [
        {
          "output_type": "display_data",
          "data": {
            "image/png": "[encoded data removed]",
            "text/plain": [
              "<Figure size 360x288 with 1 Axes>"
            ]
          },
          "metadata": {
            "needs_background": "light"
          }
        }
      ]
    },
    {
      "cell_type": "code",
      "source": [
        "# 최근 5년간 장르별 출고량\n",
        "plt.figure(figsize=(5,4))\n",
        "plt.bar(ind16, max_df5.groupby('Genre').Other_Sales.sum(),width=0.2)\n",
        "plt.title('2016-2020 Other', fontsize=15)\n",
        "plt.xlabel('Genre', fontsize=12)\n",
        "plt.ylabel('Total Sales', fontsize=12)\n",
        "plt.xticks(ind16, lb16, fontsize=9)\n",
        "plt.show()"
      ],
      "metadata": {
        "colab": {
          "base_uri": "https://localhost:8080/",
          "height": 298
        },
        "id": "Q_gLp-ZFtHYw",
        "outputId": "2394f797-8c74-4292-9b15-f90a35d98e25"
      },
      "execution_count": 43,
      "outputs": [
        {
          "output_type": "display_data",
          "data": {
            "image/png": "[encoded data removed]",
            "text/plain": [
              "<Figure size 360x288 with 1 Axes>"
            ]
          },
          "metadata": {
            "needs_background": "light"
          }
        }
      ]
    },
    {
      "cell_type": "code",
      "source": [
        "#  최근 5년간 플랫폼별 출고량\n",
        "plt.figure(figsize=(8,4))\n",
        "plt.plot(max_df5.groupby('Platform').Other_Sales.sum(), marker='o', color='orange')\n",
        "plt.plot(max_df5.groupby('Platform').NA_Sales.sum(), marker='o', color='purple')\n",
        "plt.plot(max_df5.groupby('Platform').EU_Sales.sum(), marker='o', color='green')\n",
        "plt.title('2016-2020', fontsize=13) \n",
        "plt.xlabel('Platform', fontsize=11)\n",
        "plt.ylabel('Sales', fontsize=11)\n",
        "plt.legend(['NA', 'EU', 'Other'])\n",
        "plt.show()"
      ],
      "metadata": {
        "colab": {
          "base_uri": "https://localhost:8080/",
          "height": 295
        },
        "id": "CmpuYtCazInv",
        "outputId": "1fb8413b-6a3e-448d-a87d-04d4828654bc"
      },
      "execution_count": 45,
      "outputs": [
        {
          "output_type": "display_data",
          "data": {
            "image/png": "[encoded data removed]",
            "text/plain": [
              "<Figure size 576x288 with 1 Axes>"
            ]
          },
          "metadata": {
            "needs_background": "light"
          }
        }
      ]
    }
  ]
}